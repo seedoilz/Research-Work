{
 "cells": [
  {
   "cell_type": "code",
   "execution_count": 1,
   "metadata": {
    "collapsed": true,
    "ExecuteTime": {
     "end_time": "2023-07-05T13:16:23.577347Z",
     "start_time": "2023-07-05T13:16:23.084724Z"
    }
   },
   "outputs": [],
   "source": [
    "import pandas as pd\n",
    "from tqdm import tqdm"
   ]
  },
  {
   "cell_type": "code",
   "execution_count": 2,
   "outputs": [],
   "source": [
    "'''\n",
    "add_neg : 0\n",
    "add_pos : 1\n",
    "change : 2\n",
    "not_change : 3\n",
    "'''\n",
    "def isFailure(mode, row):\n",
    "    if mode == 0:\n",
    "        change = row['res_pos_score'] - row['original_pos_score']\n",
    "        if change >= 0.1:\n",
    "            return True\n",
    "        else:\n",
    "            return False\n",
    "    elif mode == 1:\n",
    "        change = row['res_neg_score'] - row['original_neg_score']\n",
    "        if change >= 0.1:\n",
    "            return True\n",
    "        else:\n",
    "            return False\n",
    "    elif mode == 2:\n",
    "        change = abs(row['res_pos_score'] - row['original_pos_score'])\n",
    "        if change <= 0.1:\n",
    "            return True\n",
    "        else:\n",
    "            return False\n",
    "    elif mode == 3:\n",
    "        change = abs(row['res_pos_score'] - row['original_pos_score'])\n",
    "        if change >= 0.1:\n",
    "            return True\n",
    "        else:\n",
    "            return False\n",
    "    else:\n",
    "        raise Exception"
   ],
   "metadata": {
    "collapsed": false,
    "ExecuteTime": {
     "end_time": "2023-07-05T13:20:16.128935Z",
     "start_time": "2023-07-05T13:20:16.122687Z"
    }
   }
  },
  {
   "cell_type": "code",
   "execution_count": 12,
   "outputs": [],
   "source": [
    "file = \"add_pos_t5.csv\"\n",
    "df = pd.read_csv(\"/Users/seedoilz/Desktop/JOIN_checklist_sst_\" + file)\n",
    "mode = -1\n",
    "if \"add_neg\" in file:\n",
    "    mode = 0\n",
    "elif \"add_pos\" in file:\n",
    "    mode = 1\n",
    "elif \"not_change\" in file:\n",
    "    mode = 3\n",
    "elif \"change\" in file:\n",
    "    mode = 2"
   ],
   "metadata": {
    "collapsed": false,
    "ExecuteTime": {
     "end_time": "2023-07-05T13:21:18.166910Z",
     "start_time": "2023-07-05T13:21:18.045238Z"
    }
   }
  },
  {
   "cell_type": "code",
   "execution_count": 13,
   "outputs": [
    {
     "name": "stderr",
     "output_type": "stream",
     "text": [
      "54630it [00:08, 6263.58it/s]\n"
     ]
    }
   ],
   "source": [
    "res_df = pd.DataFrame(columns=df.columns)\n",
    "for index, row in tqdm(df.iterrows()):\n",
    "    if isFailure(mode, row):\n",
    "        res_df.loc[len(res_df)] = row"
   ],
   "metadata": {
    "collapsed": false,
    "ExecuteTime": {
     "end_time": "2023-07-05T13:21:28.228501Z",
     "start_time": "2023-07-05T13:21:19.503019Z"
    }
   }
  },
  {
   "cell_type": "code",
   "execution_count": 14,
   "outputs": [],
   "source": [
    "res_df.to_csv(\"/Users/seedoilz/Desktop/result_checklist_sst_\" + file)"
   ],
   "metadata": {
    "collapsed": false,
    "ExecuteTime": {
     "end_time": "2023-07-05T13:21:29.168291Z",
     "start_time": "2023-07-05T13:21:29.106677Z"
    }
   }
  },
  {
   "cell_type": "code",
   "execution_count": null,
   "outputs": [],
   "source": [],
   "metadata": {
    "collapsed": false
   }
  }
 ],
 "metadata": {
  "kernelspec": {
   "display_name": "Python 3",
   "language": "python",
   "name": "python3"
  },
  "language_info": {
   "codemirror_mode": {
    "name": "ipython",
    "version": 2
   },
   "file_extension": ".py",
   "mimetype": "text/x-python",
   "name": "python",
   "nbconvert_exporter": "python",
   "pygments_lexer": "ipython2",
   "version": "2.7.6"
  }
 },
 "nbformat": 4,
 "nbformat_minor": 0
}
