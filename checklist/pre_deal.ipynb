{
 "cells": [
  {
   "cell_type": "code",
   "execution_count": 31,
   "metadata": {
    "collapsed": true,
    "ExecuteTime": {
     "end_time": "2023-07-04T01:59:38.280484Z",
     "start_time": "2023-07-04T01:59:38.273546Z"
    }
   },
   "outputs": [],
   "source": [
    "import pandas as pd\n",
    "from tqdm import tqdm"
   ]
  },
  {
   "cell_type": "code",
   "execution_count": 46,
   "outputs": [
    {
     "name": "stderr",
     "output_type": "stream",
     "text": [
      "100%|██████████| 58272/58272 [00:01<00:00, 52017.53it/s]\n"
     ]
    }
   ],
   "source": [
    "input_file = '/Users/seedoilz/Desktop/checklist_sst_add_neg'\n",
    "model = 't5'\n",
    "df = pd.read_excel(input_file + '_' + model + '.xlsx')\n",
    "sent_id = 0\n",
    "index = 0\n",
    "df['sent_id'] = -1\n",
    "with open(input_file + '.txt') as file:\n",
    "    lines = file.readlines()\n",
    "    for line in tqdm(lines):\n",
    "        if line == '\\n':\n",
    "            continue\n",
    "        elif line.startswith('sent_id'):\n",
    "            sent_id = int(line[10:].replace(\"\\n\", \"\"))\n",
    "        else:\n",
    "            if not index >= len(df):\n",
    "                df.loc[index, 'sent_id'] = sent_id\n",
    "                index += 1\n",
    "            else:\n",
    "                break"
   ],
   "metadata": {
    "collapsed": false,
    "ExecuteTime": {
     "end_time": "2023-07-04T02:00:46.243384Z",
     "start_time": "2023-07-04T02:00:43.663346Z"
    }
   }
  },
  {
   "cell_type": "code",
   "execution_count": 47,
   "outputs": [],
   "source": [
    "df.to_csv(input_file + '_' + model + '.csv')"
   ],
   "metadata": {
    "collapsed": false,
    "ExecuteTime": {
     "end_time": "2023-07-04T02:00:47.254243Z",
     "start_time": "2023-07-04T02:00:47.055963Z"
    }
   }
  },
  {
   "cell_type": "code",
   "execution_count": null,
   "outputs": [],
   "source": [],
   "metadata": {
    "collapsed": false
   }
  }
 ],
 "metadata": {
  "kernelspec": {
   "display_name": "Python 3",
   "language": "python",
   "name": "python3"
  },
  "language_info": {
   "codemirror_mode": {
    "name": "ipython",
    "version": 2
   },
   "file_extension": ".py",
   "mimetype": "text/x-python",
   "name": "python",
   "nbconvert_exporter": "python",
   "pygments_lexer": "ipython2",
   "version": "2.7.6"
  }
 },
 "nbformat": 4,
 "nbformat_minor": 0
}
