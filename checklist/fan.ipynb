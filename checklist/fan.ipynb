{
 "cells": [
  {
   "cell_type": "code",
   "execution_count": 6,
   "metadata": {
    "collapsed": true,
    "ExecuteTime": {
     "end_time": "2023-07-04T04:32:52.882018Z",
     "start_time": "2023-07-04T04:32:52.864718Z"
    }
   },
   "outputs": [],
   "source": [
    "import pandas as pd\n",
    "from tqdm import tqdm"
   ]
  },
  {
   "cell_type": "code",
   "execution_count": 49,
   "outputs": [],
   "source": [
    "original_df = pd.read_excel(\"/Users/seedoilz/Desktop/sst_t5.xlsx\")\n",
    "file = \"checklist_sst_not_change_t5.csv\"\n",
    "df = pd.read_csv(\"/Users/seedoilz/Desktop/\" + file)"
   ],
   "metadata": {
    "collapsed": false,
    "ExecuteTime": {
     "end_time": "2023-07-04T05:07:34.435560Z",
     "start_time": "2023-07-04T05:07:34.349441Z"
    }
   }
  },
  {
   "cell_type": "code",
   "execution_count": 50,
   "outputs": [
    {
     "name": "stderr",
     "output_type": "stream",
     "text": [
      "1510it [00:01, 1164.80it/s]\n"
     ]
    }
   ],
   "source": [
    "res_df = pd.DataFrame(columns=(original_df.columns.append(df.columns)))\n",
    "for index, row in tqdm(df.iterrows()):\n",
    "    original_row = original_df.iloc[int(row['sent_id'])]\n",
    "    insert_row = new_row = {'sent_id': row['sent_id'], 'original_text':original_row['original_text'], 'original_sentiment':original_row['original_sentiment'], 'original_neg_score':original_row['original_neg_score'], 'original_pos_score':original_row['original_pos_score'], 'res_text':row['res_text'], 'res_sentiment':row['res_sentiment'], 'res_neg_score':row['res_neg_score'], 'res_pos_score':row['res_pos_score']}\n",
    "    res_df.loc[len(res_df)] = insert_row"
   ],
   "metadata": {
    "collapsed": false,
    "ExecuteTime": {
     "end_time": "2023-07-04T05:07:36.367236Z",
     "start_time": "2023-07-04T05:07:35.067987Z"
    }
   }
  },
  {
   "cell_type": "code",
   "execution_count": 51,
   "outputs": [],
   "source": [
    "res_df.drop(columns='Unnamed: 0', inplace=True)"
   ],
   "metadata": {
    "collapsed": false,
    "ExecuteTime": {
     "end_time": "2023-07-04T05:07:37.079083Z",
     "start_time": "2023-07-04T05:07:37.073962Z"
    }
   }
  },
  {
   "cell_type": "code",
   "execution_count": 52,
   "outputs": [],
   "source": [
    "res_df.to_csv(\"/Users/seedoilz/Desktop/\" + \"JOIN_\" + file)"
   ],
   "metadata": {
    "collapsed": false,
    "ExecuteTime": {
     "end_time": "2023-07-04T05:07:37.589043Z",
     "start_time": "2023-07-04T05:07:37.570223Z"
    }
   }
  }
 ],
 "metadata": {
  "kernelspec": {
   "display_name": "Python 3",
   "language": "python",
   "name": "python3"
  },
  "language_info": {
   "codemirror_mode": {
    "name": "ipython",
    "version": 2
   },
   "file_extension": ".py",
   "mimetype": "text/x-python",
   "name": "python",
   "nbconvert_exporter": "python",
   "pygments_lexer": "ipython2",
   "version": "2.7.6"
  }
 },
 "nbformat": 4,
 "nbformat_minor": 0
}
