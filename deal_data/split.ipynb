{
 "cells": [
  {
   "cell_type": "code",
   "execution_count": 10,
   "outputs": [],
   "source": [
    "with open('./part.txt', 'r') as p:\n",
    "    part = p.readline()"
   ],
   "metadata": {
    "collapsed": false,
    "ExecuteTime": {
     "end_time": "2023-06-02T09:45:17.706877Z",
     "start_time": "2023-06-02T09:45:17.703349Z"
    }
   }
  },
  {
   "cell_type": "code",
   "execution_count": 11,
   "outputs": [],
   "source": [
    "def replace_first_occurrence(original_string, old_substring, new_substring):\n",
    "    index = original_string.find(old_substring)\n",
    "    if index != -1:\n",
    "        new_string = original_string[:index] + new_substring + original_string[index + len(old_substring):]\n",
    "        return new_string\n",
    "    else:\n",
    "        return original_string"
   ],
   "metadata": {
    "collapsed": false,
    "ExecuteTime": {
     "end_time": "2023-06-02T09:45:18.753892Z",
     "start_time": "2023-06-02T09:45:18.748857Z"
    }
   }
  },
  {
   "cell_type": "code",
   "execution_count": 12,
   "metadata": {
    "collapsed": true,
    "ExecuteTime": {
     "end_time": "2023-06-02T09:45:19.260307Z",
     "start_time": "2023-06-02T09:45:19.192330Z"
    }
   },
   "outputs": [
    {
     "data": {
      "text/plain": "'./data/squad/dev/squad_dev.cln.strip.sent'"
     },
     "execution_count": 12,
     "metadata": {},
     "output_type": "execute_result"
    }
   ],
   "source": [
    "import shutil\n",
    "import re\n",
    "with open('./data/squad/' + part +'/' + part + '.txt', 'r') as file:\n",
    "    lines = file.readlines()\n",
    "with open('./data/squad/' + part +'/' + part + '-split.txt', 'w') as res_file:\n",
    "    for line in lines:\n",
    "        words = line.split(' ')\n",
    "        count = 0\n",
    "        for i, word in enumerate(words):\n",
    "            if \"'\" in word:\n",
    "                if not word.startswith(\"'\") and not word.endswith(\"'\"):\n",
    "                    words[i] = words[i].replace(\"'\", \" '\")\n",
    "                else:\n",
    "                    words[i] = words[i].replace(\"'\", \" ' \")\n",
    "            if '\"' in word:\n",
    "                if words[i].count('\"') >= 2:\n",
    "                    count = count + words[i].count('\"')\n",
    "                    for j in range(words[i].count('\"')//2):\n",
    "                        words[i] = replace_first_occurrence(words[i], '\"', '`` ')\n",
    "                    words[i] = words[i].replace('\"', ' \\'\\'')\n",
    "                else:\n",
    "                    if count % 2 == 0:\n",
    "                        count += 1\n",
    "                        words[i] = words[i].replace('\"', '`` ')\n",
    "                    else:\n",
    "                        count += 1\n",
    "                        words[i] = words[i].replace('\"', ' \\'\\'')\n",
    "            if ',' in word:\n",
    "                words[i] = words[i].replace(',', ' ,')\n",
    "            if '?' in word:\n",
    "                words[i] = words[i].replace('?', ' ?')\n",
    "            if '.' in word:\n",
    "                if '....' in word:\n",
    "                    words[i] = words[i].replace('....', ' .... ')\n",
    "                elif '...' in word:\n",
    "                    words[i] = words[i].replace('...', ' ... ')\n",
    "                else:\n",
    "                    words[i] = words[i].replace('.', ' . ')\n",
    "            if '(' in word:\n",
    "                words[i] = words[i].replace('(', ' ( ')\n",
    "            if ')' in word:\n",
    "                words[i] = words[i].replace(')', ' ) ')\n",
    "            if '!' in word:\n",
    "                words[i] = words[i].replace('!', ' !')\n",
    "            if ';' in word:\n",
    "                words[i] = words[i].replace(';', ' ;')\n",
    "            if '’' in word:\n",
    "                words[i] = words[i].replace('’', ' ’')\n",
    "        res_file.write(re.sub(r'\\s+', ' ', ' '.join(words)).strip() + '\\n')\n",
    "shutil.copyfile('./data/squad/' + part +'/' + part + '-split.txt', './data/squad/' + part +'/squad_' + part + '.cln.strip.sent')"
   ]
  },
  {
   "cell_type": "code",
   "execution_count": 23,
   "outputs": [
    {
     "name": "stdout",
     "output_type": "stream",
     "text": [
      "Who did Beyonce record with for the movie `` The Best Man ? ''\n",
      "\n"
     ]
    }
   ],
   "source": [
    "import re\n",
    "string = 'Who did Beyonce record with for the movie \"The Best Man?\"'\n",
    "words = string.split(' ')\n",
    "count = 0\n",
    "for i, word in enumerate(words):\n",
    "    if \"'\" in word:\n",
    "        if not word.startswith(\"'\") and not word.endswith(\"'\"):\n",
    "            words[i] = words[i].replace(\"'\", \" '\")\n",
    "        else:\n",
    "            words[i] = words[i].replace(\"'\", \" ' \")\n",
    "    if '\"' in word:\n",
    "        if count % 2 == 0:\n",
    "            count += 1\n",
    "            words[i] = words[i].replace('\"', '`` ')\n",
    "        else:\n",
    "            count += 1\n",
    "            words[i] = words[i].replace('\"', ' \\'\\'')\n",
    "    if ',' in word:\n",
    "        words[i] = words[i].replace(',', ' ,')\n",
    "    if '?' in word:\n",
    "        words[i] = words[i].replace('?', ' ?')\n",
    "    if '.' in word:\n",
    "        words[i] = words[i].replace('.', ' .')\n",
    "print(re.sub(r'\\s+', ' ', ' '.join(words)) + '\\n')"
   ],
   "metadata": {
    "collapsed": false,
    "ExecuteTime": {
     "end_time": "2023-06-01T07:10:48.946305Z",
     "start_time": "2023-06-01T07:10:48.937533Z"
    }
   }
  }
 ],
 "metadata": {
  "kernelspec": {
   "display_name": "Python 3",
   "language": "python",
   "name": "python3"
  },
  "language_info": {
   "codemirror_mode": {
    "name": "ipython",
    "version": 2
   },
   "file_extension": ".py",
   "mimetype": "text/x-python",
   "name": "python",
   "nbconvert_exporter": "python",
   "pygments_lexer": "ipython2",
   "version": "2.7.6"
  }
 },
 "nbformat": 4,
 "nbformat_minor": 0
}
