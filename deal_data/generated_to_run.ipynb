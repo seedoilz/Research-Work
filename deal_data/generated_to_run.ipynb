{
 "cells": [
  {
   "cell_type": "code",
   "execution_count": 1,
   "metadata": {
    "collapsed": true,
    "ExecuteTime": {
     "end_time": "2023-06-30T05:43:26.371745Z",
     "start_time": "2023-06-30T05:43:25.890759Z"
    }
   },
   "outputs": [],
   "source": [
    "import pandas as pd\n",
    "from tqdm import tqdm"
   ]
  },
  {
   "cell_type": "code",
   "execution_count": 2,
   "outputs": [],
   "source": [
    "df = pd.DataFrame(columns=['original_text' , 'insert_text', 'result_text', 'sent_id', 'insert_id', 'group_no'])"
   ],
   "metadata": {
    "collapsed": false,
    "ExecuteTime": {
     "end_time": "2023-06-30T05:44:15.525593Z",
     "start_time": "2023-06-30T05:44:15.521661Z"
    }
   }
  },
  {
   "cell_type": "code",
   "execution_count": 3,
   "outputs": [
    {
     "name": "stderr",
     "output_type": "stream",
     "text": [
      "51500it [01:10, 726.76it/s] \n"
     ]
    }
   ],
   "source": [
    "with open('sst_test_map_syn.txt') as file:\n",
    "    sent_id = 0\n",
    "    insert_id = ''\n",
    "    group_no = 0\n",
    "    former_text = ''\n",
    "    for line in tqdm(file):\n",
    "        if line.startswith('sent_id') or line.startswith('insert') or line == '\\n':\n",
    "            if line.startswith('sent_id'):\n",
    "                sent_id = line[10:].replace('\\n','')\n",
    "            elif line.startswith('insert'):\n",
    "                insert_id = line[7:].replace('\\n','')\n",
    "            continue\n",
    "        else:\n",
    "            line = line.replace('\\n','')\n",
    "            sentence_list = line.split(' | ')\n",
    "            original_text = sentence_list[0]\n",
    "            insert_text = sentence_list[1]\n",
    "            result_text = sentence_list[2]\n",
    "            if original_text != former_text:\n",
    "                group_no += 1\n",
    "            former_text = original_text\n",
    "            new_row = {'original_text':original_text, 'insert_text':insert_text, 'result_text':result_text, 'sent_id':sent_id, 'insert_id':insert_id, 'group_no':group_no}\n",
    "\n",
    "            df.loc[len(df)] = new_row"
   ],
   "metadata": {
    "collapsed": false,
    "ExecuteTime": {
     "end_time": "2023-06-30T05:45:28.938938Z",
     "start_time": "2023-06-30T05:44:18.057390Z"
    }
   }
  },
  {
   "cell_type": "code",
   "execution_count": 4,
   "outputs": [
    {
     "data": {
      "text/plain": "                                           original_text       insert_text  \\\n0                        mishmash of styles and genres .            Uneasy   \n1      This film's relationship is the same as what c...   to real tension   \n2      This film's relationship is the same as what c...  to actual stress   \n3      This film's relationship to real tension is th...     in a spraying   \n4      This film's relationship to real tension is th...      in a sprayer   \n...                                                  ...               ...   \n44391  Let your childhood nostalgia slumber unmolested .        ridiculous   \n44392  Let your childhood nostalgia slumber unmolested .             goofy   \n44393  Let your childhood nostalgia slumber unmolested .          pathetic   \n44394  Let your childhood nostalgia slumber unmolested .             wacky   \n44395  Let your childhood nostalgia slumber unmolested .              zany   \n\n                                             result_text sent_id insert_id  \\\n0                 Uneasy mishmash of styles and genres .       0        t0   \n1      This film's relationship to real tension is th...       1        t0   \n2      This film's relationship to actual stress is t...       1        t0   \n3      This film's relationship to real tension is th...       1        t1   \n4      This film's relationship to real tension is th...       1        t1   \n...                                                  ...     ...       ...   \n44391  Let your ridiculous childhood nostalgia slumbe...    1175        t0   \n44392  Let your goofy childhood nostalgia slumber unm...    1175        t0   \n44393  Let your pathetic childhood nostalgia slumber ...    1175        t0   \n44394  Let your wacky childhood nostalgia slumber unm...    1175        t0   \n44395  Let your zany childhood nostalgia slumber unmo...    1175        t0   \n\n       group_no  \n0             1  \n1             2  \n2             2  \n3             3  \n4             3  \n...         ...  \n44391     13182  \n44392     13182  \n44393     13182  \n44394     13182  \n44395     13182  \n\n[44396 rows x 6 columns]",
      "text/html": "<div>\n<style scoped>\n    .dataframe tbody tr th:only-of-type {\n        vertical-align: middle;\n    }\n\n    .dataframe tbody tr th {\n        vertical-align: top;\n    }\n\n    .dataframe thead th {\n        text-align: right;\n    }\n</style>\n<table border=\"1\" class=\"dataframe\">\n  <thead>\n    <tr style=\"text-align: right;\">\n      <th></th>\n      <th>original_text</th>\n      <th>insert_text</th>\n      <th>result_text</th>\n      <th>sent_id</th>\n      <th>insert_id</th>\n      <th>group_no</th>\n    </tr>\n  </thead>\n  <tbody>\n    <tr>\n      <th>0</th>\n      <td>mishmash of styles and genres .</td>\n      <td>Uneasy</td>\n      <td>Uneasy mishmash of styles and genres .</td>\n      <td>0</td>\n      <td>t0</td>\n      <td>1</td>\n    </tr>\n    <tr>\n      <th>1</th>\n      <td>This film's relationship is the same as what c...</td>\n      <td>to real tension</td>\n      <td>This film's relationship to real tension is th...</td>\n      <td>1</td>\n      <td>t0</td>\n      <td>2</td>\n    </tr>\n    <tr>\n      <th>2</th>\n      <td>This film's relationship is the same as what c...</td>\n      <td>to actual stress</td>\n      <td>This film's relationship to actual stress is t...</td>\n      <td>1</td>\n      <td>t0</td>\n      <td>2</td>\n    </tr>\n    <tr>\n      <th>3</th>\n      <td>This film's relationship to real tension is th...</td>\n      <td>in a spraying</td>\n      <td>This film's relationship to real tension is th...</td>\n      <td>1</td>\n      <td>t1</td>\n      <td>3</td>\n    </tr>\n    <tr>\n      <th>4</th>\n      <td>This film's relationship to real tension is th...</td>\n      <td>in a sprayer</td>\n      <td>This film's relationship to real tension is th...</td>\n      <td>1</td>\n      <td>t1</td>\n      <td>3</td>\n    </tr>\n    <tr>\n      <th>...</th>\n      <td>...</td>\n      <td>...</td>\n      <td>...</td>\n      <td>...</td>\n      <td>...</td>\n      <td>...</td>\n    </tr>\n    <tr>\n      <th>44391</th>\n      <td>Let your childhood nostalgia slumber unmolested .</td>\n      <td>ridiculous</td>\n      <td>Let your ridiculous childhood nostalgia slumbe...</td>\n      <td>1175</td>\n      <td>t0</td>\n      <td>13182</td>\n    </tr>\n    <tr>\n      <th>44392</th>\n      <td>Let your childhood nostalgia slumber unmolested .</td>\n      <td>goofy</td>\n      <td>Let your goofy childhood nostalgia slumber unm...</td>\n      <td>1175</td>\n      <td>t0</td>\n      <td>13182</td>\n    </tr>\n    <tr>\n      <th>44393</th>\n      <td>Let your childhood nostalgia slumber unmolested .</td>\n      <td>pathetic</td>\n      <td>Let your pathetic childhood nostalgia slumber ...</td>\n      <td>1175</td>\n      <td>t0</td>\n      <td>13182</td>\n    </tr>\n    <tr>\n      <th>44394</th>\n      <td>Let your childhood nostalgia slumber unmolested .</td>\n      <td>wacky</td>\n      <td>Let your wacky childhood nostalgia slumber unm...</td>\n      <td>1175</td>\n      <td>t0</td>\n      <td>13182</td>\n    </tr>\n    <tr>\n      <th>44395</th>\n      <td>Let your childhood nostalgia slumber unmolested .</td>\n      <td>zany</td>\n      <td>Let your zany childhood nostalgia slumber unmo...</td>\n      <td>1175</td>\n      <td>t0</td>\n      <td>13182</td>\n    </tr>\n  </tbody>\n</table>\n<p>44396 rows × 6 columns</p>\n</div>"
     },
     "execution_count": 4,
     "metadata": {},
     "output_type": "execute_result"
    }
   ],
   "source": [
    "df"
   ],
   "metadata": {
    "collapsed": false,
    "ExecuteTime": {
     "end_time": "2023-06-30T05:45:39.450528Z",
     "start_time": "2023-06-30T05:45:39.436185Z"
    }
   }
  },
  {
   "cell_type": "code",
   "execution_count": 5,
   "outputs": [],
   "source": [
    "df.to_csv('sst_test_map_syn.csv')"
   ],
   "metadata": {
    "collapsed": false,
    "ExecuteTime": {
     "end_time": "2023-06-30T05:45:42.822419Z",
     "start_time": "2023-06-30T05:45:42.595885Z"
    }
   }
  },
  {
   "cell_type": "code",
   "execution_count": null,
   "outputs": [],
   "source": [],
   "metadata": {
    "collapsed": false
   }
  }
 ],
 "metadata": {
  "kernelspec": {
   "display_name": "Python 3",
   "language": "python",
   "name": "python3"
  },
  "language_info": {
   "codemirror_mode": {
    "name": "ipython",
    "version": 2
   },
   "file_extension": ".py",
   "mimetype": "text/x-python",
   "name": "python",
   "nbconvert_exporter": "python",
   "pygments_lexer": "ipython2",
   "version": "2.7.6"
  }
 },
 "nbformat": 4,
 "nbformat_minor": 0
}
