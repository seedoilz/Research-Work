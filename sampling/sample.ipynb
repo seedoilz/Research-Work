{
 "cells": [
  {
   "cell_type": "code",
   "execution_count": 1,
   "metadata": {
    "collapsed": true,
    "ExecuteTime": {
     "end_time": "2023-07-11T02:24:15.300894Z",
     "start_time": "2023-07-11T02:24:14.596001Z"
    }
   },
   "outputs": [],
   "source": [
    "import pandas as pd\n",
    "import os"
   ]
  },
  {
   "cell_type": "code",
   "execution_count": 5,
   "outputs": [
    {
     "name": "stdout",
     "output_type": "stream",
     "text": [
      "497\n",
      "497\n"
     ]
    }
   ],
   "source": [
    "for file_path in os.listdir(\"/Users/seedoilz/Codes/research/sampling\"):\n",
    "    if os.path.isdir(file_path) or file_path.endswith(\"ipynb\") or file_path == '.DS_Store':\n",
    "        continue\n",
    "    if file_path.endswith(\"tsv\"):\n",
    "        df = pd.read_csv(file_path, sep='\\t')\n",
    "        file_path = file_path.replace(\"tsv\", \"csv\")\n",
    "    else:\n",
    "        df = pd.read_csv(file_path)\n",
    "        continue\n",
    "    drop_index_list = []\n",
    "    for index, row in df.iterrows():\n",
    "        if row['text_a'] == row['text_b']:\n",
    "            drop_index_list.append(index)\n",
    "    df = df.drop(drop_index_list)\n",
    "    print(len(drop_index_list))\n",
    "    sample_df_list = []\n",
    "    for i in range(4):\n",
    "        sample_df = df.sample(n=100)\n",
    "        sample_df_list.append(sample_df)\n",
    "        df.drop(sample_df.index, inplace=True)\n",
    "    dir_path = \"./samples_\" + file_path.replace(\".csv\", \"\")\n",
    "    os.makedirs(dir_path)\n",
    "    for i in range(4):\n",
    "        sample_df_list[0].to_csv(dir_path + \"/sample_\" + str(i+1) + \"_\" +file_path, index=False)"
   ],
   "metadata": {
    "collapsed": false,
    "ExecuteTime": {
     "end_time": "2023-07-11T02:25:37.090904Z",
     "start_time": "2023-07-11T02:25:31.352114Z"
    }
   }
  },
  {
   "cell_type": "code",
   "execution_count": null,
   "outputs": [],
   "source": [],
   "metadata": {
    "collapsed": false
   }
  }
 ],
 "metadata": {
  "kernelspec": {
   "display_name": "Python 3",
   "language": "python",
   "name": "python3"
  },
  "language_info": {
   "codemirror_mode": {
    "name": "ipython",
    "version": 2
   },
   "file_extension": ".py",
   "mimetype": "text/x-python",
   "name": "python",
   "nbconvert_exporter": "python",
   "pygments_lexer": "ipython2",
   "version": "2.7.6"
  }
 },
 "nbformat": 4,
 "nbformat_minor": 0
}
