{
 "cells": [
  {
   "cell_type": "code",
   "execution_count": 7,
   "metadata": {
    "ExecuteTime": {
     "end_time": "2023-06-20T03:57:48.679090Z",
     "start_time": "2023-06-20T03:57:48.046999Z"
    },
    "tags": []
   },
   "outputs": [],
   "source": [
    "import pandas as pd\n",
    "import spacy\n",
    "import numpy as np\n",
    "from tqdm import tqdm"
   ]
  },
  {
   "cell_type": "code",
   "execution_count": 8,
   "metadata": {
    "collapsed": false,
    "jupyter": {
     "outputs_hidden": false
    },
    "tags": []
   },
   "outputs": [],
   "source": [
    "nlp = spacy.load(\"en_core_web_lg\")"
   ]
  },
  {
   "cell_type": "code",
   "execution_count": 16,
   "metadata": {
    "ExecuteTime": {
     "end_time": "2023-06-20T02:19:03.235824Z",
     "start_time": "2023-06-20T02:19:02.919534Z"
    },
    "collapsed": false,
    "jupyter": {
     "outputs_hidden": false
    },
    "tags": []
   },
   "outputs": [],
   "source": [
    "df = pd.read_excel('./sst_test_map_syn_deberta.xlsx')\n",
    "# 复制数据框并清空数据\n",
    "df_copy = df.copy()\n",
    "df_copy = df_copy.iloc[0:0]\n",
    "entity_list = ['CARDINAL', 'DATE', 'EVENT', 'FAC', 'GPE', 'LANGUAGE', 'LAW', 'LOC', 'MONEY', 'NORP', 'ORDINAL', 'ORG', 'PERCENT', 'PERSON', 'PRODUCT', 'QUANTITY', 'TIME', 'WORK_OF_ART']\n",
    "for entity_kind in entity_list:\n",
    "    df[entity_kind] = 0\n",
    "    df[entity_kind + '_text'] = 'blank'\n",
    "    df_copy[entity_kind] = 0\n",
    "    df_copy[entity_kind + '_text'] = 'blank'"
   ]
  },
  {
   "cell_type": "code",
   "execution_count": 17,
   "metadata": {
    "ExecuteTime": {
     "end_time": "2023-06-20T02:21:35.374136Z",
     "start_time": "2023-06-20T02:21:32.666165Z"
    },
    "collapsed": false,
    "jupyter": {
     "outputs_hidden": false
    },
    "tags": []
   },
   "outputs": [
    {
     "name": "stderr",
     "output_type": "stream",
     "text": [
      "999it [00:07, 139.99it/s]\n"
     ]
    }
   ],
   "source": [
    "for index, row in tqdm(df.iterrows()):\n",
    "    judge_text = row['insert_text']\n",
    "    doc = nlp(judge_text)\n",
    "    if len(doc.ents) > 0:\n",
    "        insert_sentiment = int(row['insert_sentiment'])\n",
    "        if insert_sentiment == 1:\n",
    "            new_negative_score = float(row['res_neg_score'])\n",
    "            original_negative_score = float(row['original_neg_score'])\n",
    "            if new_negative_score - original_negative_score >= 0.1:\n",
    "                for ent in doc.ents:\n",
    "                    row[ent.label_] += 1\n",
    "                if row[ent.label_] == 1:\n",
    "                    row[ent.label_ + '_text'] = ent.text\n",
    "                else:\n",
    "                    row[ent.label_ + '_text'] += ',' + ent.text\n",
    "                df_copy = pd.concat([df_copy, row.to_frame().T], axis=0)\n",
    "        else:\n",
    "            new_positive_score = float(row['res_pos_score'])\n",
    "            original_positive_score = float(row['original_pos_score'])\n",
    "            if new_positive_score - original_positive_score >= 0.1:\n",
    "                for ent in doc.ents:\n",
    "                    row[ent.label_] += 1\n",
    "                if row[ent.label_] == 1:\n",
    "                    row[ent.label_ + '_text'] = ent.text\n",
    "                else:\n",
    "                    row[ent.label_ + '_text'] += ',' + ent.text\n",
    "                df_copy = pd.concat([df_copy, row.to_frame().T], axis=0)\n",
    "df_copy.to_csv('result_deberta_entity_sentiment.tsv', sep='\\t', index=False)"
   ]
  },
  {
   "cell_type": "code",
   "execution_count": null,
   "metadata": {
    "collapsed": false,
    "jupyter": {
     "outputs_hidden": false
    }
   },
   "outputs": [],
   "source": []
  }
 ],
 "metadata": {
  "kernelspec": {
   "display_name": "myconda",
   "language": "python",
   "name": "myconda"
  },
  "language_info": {
   "codemirror_mode": {
    "name": "ipython",
    "version": 3
   },
   "file_extension": ".py",
   "mimetype": "text/x-python",
   "name": "python",
   "nbconvert_exporter": "python",
   "pygments_lexer": "ipython3",
   "version": "3.9.16"
  }
 },
 "nbformat": 4,
 "nbformat_minor": 4
}
