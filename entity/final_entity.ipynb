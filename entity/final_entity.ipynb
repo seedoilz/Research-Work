{
 "cells": [
  {
   "cell_type": "code",
   "execution_count": 3,
   "metadata": {
    "collapsed": true,
    "ExecuteTime": {
     "end_time": "2023-07-23T11:00:09.455265Z",
     "start_time": "2023-07-23T11:00:08.554209Z"
    }
   },
   "outputs": [],
   "source": [
    "import pandas as pd\n",
    "import spacy\n",
    "from tqdm import tqdm\n",
    "import os"
   ]
  },
  {
   "cell_type": "code",
   "execution_count": 6,
   "outputs": [
    {
     "name": "stdout",
     "output_type": "stream",
     "text": [
      ".DS_Store\n",
      "likelihood.ipynb\n",
      "remove_wrong_data.ipynb\n",
      "final_entity.ipynb\n",
      "sentiment.ipynb\n",
      ".ipynb_checkpoints\n",
      "final_entity.py\n"
     ]
    }
   ],
   "source": [
    "dir_path = '.'\n",
    "nlp = spacy.load(\"en_core_web_lg\")\n",
    "for file_path in os.listdir(dir_path):\n",
    "    print(file_path)\n",
    "    if not file_path.endswith('xlsx'):\n",
    "        continue\n",
    "    df = pd.read_excel(file_path)\n",
    "    df_copy = df.copy()\n",
    "    df_copy = df_copy.iloc[0:0]\n",
    "    entity_list = ['CARDINAL', 'DATE', 'EVENT', 'FAC', 'GPE', 'LANGUAGE', 'LAW', 'LOC', 'MONEY', 'NORP', 'ORDINAL', 'ORG', 'PERCENT', 'PERSON', 'PRODUCT', 'QUANTITY', 'TIME', 'WORK_OF_ART']\n",
    "    for entity_kind in entity_list:\n",
    "        df[entity_kind] = 0\n",
    "        df[entity_kind + '_text'] = 'blank'\n",
    "        df_copy[entity_kind] = 0\n",
    "        df_copy[entity_kind + '_text'] = 'blank'\n",
    "    for index, row in tqdm(df.iterrows()):\n",
    "        judge_text = row['insert_text']\n",
    "        doc = nlp(judge_text)\n",
    "        if len(doc.ents) > 0:\n",
    "            for ent in doc.ents:\n",
    "                row[ent.label_] += 1\n",
    "                if row[ent.label_] == 1:\n",
    "                    row[ent.label_ + '_text'] = ent.text\n",
    "                else:\n",
    "                    row[ent.label_ + '_text'] += ',' + ent.text\n",
    "            df_copy = pd.concat([df_copy, row.to_frame().T], axis=0)\n",
    "    df_copy.to_csv('res' + file_path.replace('xlsx','csv'), index=False)"
   ],
   "metadata": {
    "collapsed": false,
    "ExecuteTime": {
     "end_time": "2023-07-23T11:00:52.153989Z",
     "start_time": "2023-07-23T11:00:52.149682Z"
    }
   }
  },
  {
   "cell_type": "code",
   "execution_count": null,
   "outputs": [],
   "source": [],
   "metadata": {
    "collapsed": false
   }
  }
 ],
 "metadata": {
  "kernelspec": {
   "display_name": "Python 3",
   "language": "python",
   "name": "python3"
  },
  "language_info": {
   "codemirror_mode": {
    "name": "ipython",
    "version": 2
   },
   "file_extension": ".py",
   "mimetype": "text/x-python",
   "name": "python",
   "nbconvert_exporter": "python",
   "pygments_lexer": "ipython2",
   "version": "2.7.6"
  }
 },
 "nbformat": 4,
 "nbformat_minor": 0
}
