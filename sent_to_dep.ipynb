{
 "cells": [
  {
   "cell_type": "code",
   "execution_count": 7,
   "outputs": [],
   "source": [
    "with open('./part.txt', 'r') as p:\n",
    "    part = p.readline()"
   ],
   "metadata": {
    "collapsed": false,
    "ExecuteTime": {
     "end_time": "2023-06-01T11:01:34.928155Z",
     "start_time": "2023-06-01T11:01:34.923Z"
    }
   }
  },
  {
   "cell_type": "code",
   "execution_count": 8,
   "metadata": {
    "collapsed": true,
    "ExecuteTime": {
     "end_time": "2023-06-01T11:01:35.707944Z",
     "start_time": "2023-06-01T11:01:35.499071Z"
    }
   },
   "outputs": [],
   "source": [
    "with open('./data/squad/' + part +'/squad_' + part + '.cln.sent', 'r') as file:\n",
    "    lines = file.readlines()\n",
    "with open('./data/squad/' + part +'/squad_' + part + '.cln.dep', 'w') as f:\n",
    "    for line in lines:\n",
    "        length = len(line.split(' '))\n",
    "        for i in range(0, length):\n",
    "            if i != length-1:\n",
    "                f.write('0-0 ')\n",
    "            else:\n",
    "                f.write('0-0\\n')"
   ]
  },
  {
   "cell_type": "code",
   "execution_count": null,
   "outputs": [],
   "source": [],
   "metadata": {
    "collapsed": false
   }
  }
 ],
 "metadata": {
  "kernelspec": {
   "display_name": "Python 3",
   "language": "python",
   "name": "python3"
  },
  "language_info": {
   "codemirror_mode": {
    "name": "ipython",
    "version": 2
   },
   "file_extension": ".py",
   "mimetype": "text/x-python",
   "name": "python",
   "nbconvert_exporter": "python",
   "pygments_lexer": "ipython2",
   "version": "2.7.6"
  }
 },
 "nbformat": 4,
 "nbformat_minor": 0
}
