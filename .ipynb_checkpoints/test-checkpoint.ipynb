{
 "cells": [
  {
   "cell_type": "code",
   "execution_count": 1,
   "metadata": {
    "ExecuteTime": {
     "end_time": "2023-07-24T02:15:06.262521Z",
     "start_time": "2023-07-24T02:15:05.726264Z"
    },
    "collapsed": true
   },
   "outputs": [],
   "source": [
    "import pandas as pd\n",
    "import spacy\n",
    "from tqdm import tqdm"
   ]
  },
  {
   "cell_type": "code",
   "execution_count": 2,
   "metadata": {
    "ExecuteTime": {
     "end_time": "2023-07-24T02:15:06.265106Z",
     "start_time": "2023-07-24T02:15:06.263234Z"
    }
   },
   "outputs": [],
   "source": [
    "def find_insert_text(str1, str2):\n",
    "    str1_list = str1.split(' ')\n",
    "    str2_list = str2.split(' ')\n",
    "    i = 0\n",
    "    j = 0\n",
    "    res = ''\n",
    "    for j in range(len(str2_list)):\n",
    "        if str1_list[i] != str2_list[j]:\n",
    "            res += str2_list[j] + ' '\n",
    "        else:\n",
    "            i += 1\n",
    "        if i == len(str1_list):\n",
    "            break\n",
    "    return res"
   ]
  },
  {
   "cell_type": "code",
   "execution_count": 5,
   "metadata": {
    "ExecuteTime": {
     "end_time": "2023-07-24T02:20:06.453674Z",
     "start_time": "2023-07-24T02:20:06.294888Z"
    }
   },
   "outputs": [],
   "source": [
    "file_path = '/Users/seedoilz/Downloads/data/句意理解/result.xlsx'\n",
    "df = pd.read_excel(file_path)"
   ]
  },
  {
   "cell_type": "code",
   "execution_count": 6,
   "metadata": {
    "ExecuteTime": {
     "end_time": "2023-07-24T02:20:07.261989Z",
     "start_time": "2023-07-24T02:20:07.246986Z"
    }
   },
   "outputs": [],
   "source": [
    "df_copy = df.copy()\n",
    "df_copy = df_copy.iloc[0:0]\n",
    "entity_list = ['CARDINAL', 'DATE', 'EVENT', 'FAC', 'GPE', 'LANGUAGE', 'LAW', 'LOC', 'MONEY', 'NORP', 'ORDINAL', 'ORG', 'PERCENT', 'PERSON', 'PRODUCT', 'QUANTITY', 'TIME', 'WORK_OF_ART']\n",
    "for entity_kind in entity_list:\n",
    "    df[entity_kind] = 0\n",
    "    df[entity_kind + '_text'] = 'blank'\n",
    "    df_copy[entity_kind] = 0\n",
    "    df_copy[entity_kind + '_text'] = 'blank'\n",
    "df['insert_text'] = ''\n",
    "df_copy['insert_text'] = ''"
   ]
  },
  {
   "cell_type": "code",
   "execution_count": null,
   "metadata": {},
   "outputs": [],
   "source": [
    "nlp = spacy.load(\"en_core_web_lg\")\n",
    "for index, row in tqdm(df.iterrows()):\n",
    "    judge_text = find_insert_text(df['q1'], df['q2'])\n",
    "    row['insert_text'] = judge_text\n",
    "    doc = nlp(judge_text)\n",
    "    if len(doc.ents) > 0:\n",
    "        for ent in doc.ents:\n",
    "            row[ent.label_] += 1\n",
    "            if row[ent.label_] == 1:\n",
    "                row[ent.label_ + '_text'] = ent.text\n",
    "            else:\n",
    "                row[ent.label_ + '_text'] += ',' + ent.text\n",
    "        df_copy = pd.concat([df_copy, row.to_frame().T], axis=0)\n",
    "df_copy.to_csv('res' + file_path.replace('xlsx','csv'), index=False)"
   ]
  }
 ],
 "metadata": {
  "kernelspec": {
   "display_name": "Python 3 (ipykernel)",
   "language": "python",
   "name": "python3"
  },
  "language_info": {
   "codemirror_mode": {
    "name": "ipython",
    "version": 3
   },
   "file_extension": ".py",
   "mimetype": "text/x-python",
   "name": "python",
   "nbconvert_exporter": "python",
   "pygments_lexer": "ipython3",
   "version": "3.8.16"
  }
 },
 "nbformat": 4,
 "nbformat_minor": 1
}
