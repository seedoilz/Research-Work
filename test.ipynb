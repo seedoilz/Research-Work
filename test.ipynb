{
 "cells": [
  {
   "cell_type": "code",
   "execution_count": 7,
   "metadata": {
    "collapsed": true,
    "ExecuteTime": {
     "end_time": "2023-07-24T02:25:33.595415Z",
     "start_time": "2023-07-24T02:25:32.961143Z"
    }
   },
   "outputs": [],
   "source": [
    "import pandas as pd\n",
    "import spacy\n",
    "from tqdm import tqdm"
   ]
  },
  {
   "cell_type": "code",
   "execution_count": 8,
   "metadata": {
    "ExecuteTime": {
     "end_time": "2023-07-24T02:25:33.598516Z",
     "start_time": "2023-07-24T02:25:33.596365Z"
    }
   },
   "outputs": [],
   "source": [
    "def find_insert_text(str1, str2):\n",
    "    str1_list = str1.split(' ')\n",
    "    str2_list = str2.split(' ')\n",
    "    i = 0\n",
    "    j = 0\n",
    "    res = ''\n",
    "    for j in range(len(str2_list)):\n",
    "        if str1_list[i] != str2_list[j]:\n",
    "            res += str2_list[j] + ' '\n",
    "        else:\n",
    "            i += 1\n",
    "        if i == len(str1_list):\n",
    "            break\n",
    "    return res"
   ]
  },
  {
   "cell_type": "code",
   "execution_count": 9,
   "metadata": {
    "ExecuteTime": {
     "end_time": "2023-07-24T02:25:36.460370Z",
     "start_time": "2023-07-24T02:25:36.392112Z"
    }
   },
   "outputs": [],
   "source": [
    "file_path = '/Users/seedoilz/Downloads/data/句意理解/result.xlsx'\n",
    "df = pd.read_excel(file_path)"
   ]
  },
  {
   "cell_type": "code",
   "execution_count": 10,
   "metadata": {
    "ExecuteTime": {
     "end_time": "2023-07-24T02:25:37.906276Z",
     "start_time": "2023-07-24T02:25:37.904008Z"
    }
   },
   "outputs": [],
   "source": [
    "df_copy = df.copy()\n",
    "df_copy = df_copy.iloc[0:0]\n",
    "entity_list = ['CARDINAL', 'DATE', 'EVENT', 'FAC', 'GPE', 'LANGUAGE', 'LAW', 'LOC', 'MONEY', 'NORP', 'ORDINAL', 'ORG', 'PERCENT', 'PERSON', 'PRODUCT', 'QUANTITY', 'TIME', 'WORK_OF_ART']\n",
    "for entity_kind in entity_list:\n",
    "    df[entity_kind] = 0\n",
    "    df[entity_kind + '_text'] = 'blank'\n",
    "    df_copy[entity_kind] = 0\n",
    "    df_copy[entity_kind + '_text'] = 'blank'\n",
    "df['insert_text'] = ''\n",
    "df_copy['insert_text'] = ''"
   ]
  },
  {
   "cell_type": "code",
   "execution_count": 11,
   "metadata": {
    "ExecuteTime": {
     "end_time": "2023-07-24T02:25:39.853156Z",
     "start_time": "2023-07-24T02:25:39.345440Z"
    }
   },
   "outputs": [
    {
     "name": "stderr",
     "output_type": "stream",
     "text": [
      "0it [00:00, ?it/s]\n"
     ]
    },
    {
     "ename": "AttributeError",
     "evalue": "'Series' object has no attribute 'split'",
     "output_type": "error",
     "traceback": [
      "\u001B[0;31m---------------------------------------------------------------------------\u001B[0m",
      "\u001B[0;31mAttributeError\u001B[0m                            Traceback (most recent call last)",
      "Cell \u001B[0;32mIn[11], line 3\u001B[0m\n\u001B[1;32m      1\u001B[0m \u001B[38;5;66;03m# nlp = spacy.load(\"en_core_web_lg\")\u001B[39;00m\n\u001B[1;32m      2\u001B[0m \u001B[38;5;28;01mfor\u001B[39;00m index, row \u001B[38;5;129;01min\u001B[39;00m tqdm(df\u001B[38;5;241m.\u001B[39miterrows()):\n\u001B[0;32m----> 3\u001B[0m     judge_text \u001B[38;5;241m=\u001B[39m \u001B[43mfind_insert_text\u001B[49m\u001B[43m(\u001B[49m\u001B[43mdf\u001B[49m\u001B[43m[\u001B[49m\u001B[38;5;124;43m'\u001B[39;49m\u001B[38;5;124;43mq1\u001B[39;49m\u001B[38;5;124;43m'\u001B[39;49m\u001B[43m]\u001B[49m\u001B[43m,\u001B[49m\u001B[43m \u001B[49m\u001B[43mdf\u001B[49m\u001B[43m[\u001B[49m\u001B[38;5;124;43m'\u001B[39;49m\u001B[38;5;124;43mq2\u001B[39;49m\u001B[38;5;124;43m'\u001B[39;49m\u001B[43m]\u001B[49m\u001B[43m)\u001B[49m\n\u001B[1;32m      4\u001B[0m     row[\u001B[38;5;124m'\u001B[39m\u001B[38;5;124minsert_text\u001B[39m\u001B[38;5;124m'\u001B[39m] \u001B[38;5;241m=\u001B[39m judge_text\n\u001B[1;32m      5\u001B[0m     \u001B[38;5;66;03m# doc = nlp(judge_text)\u001B[39;00m\n\u001B[1;32m      6\u001B[0m     \u001B[38;5;66;03m# if len(doc.ents) > 0:\u001B[39;00m\n\u001B[1;32m      7\u001B[0m     \u001B[38;5;66;03m#     for ent in doc.ents:\u001B[39;00m\n\u001B[0;32m   (...)\u001B[0m\n\u001B[1;32m     12\u001B[0m     \u001B[38;5;66;03m#             row[ent.label_ + '_text'] += ',' + ent.text\u001B[39;00m\n\u001B[1;32m     13\u001B[0m     \u001B[38;5;66;03m#     df_copy = pd.concat([df_copy, row.to_frame().T], axis=0)\u001B[39;00m\n",
      "Cell \u001B[0;32mIn[8], line 2\u001B[0m, in \u001B[0;36mfind_insert_text\u001B[0;34m(str1, str2)\u001B[0m\n\u001B[1;32m      1\u001B[0m \u001B[38;5;28;01mdef\u001B[39;00m \u001B[38;5;21mfind_insert_text\u001B[39m(str1, str2):\n\u001B[0;32m----> 2\u001B[0m     str1_list \u001B[38;5;241m=\u001B[39m \u001B[43mstr1\u001B[49m\u001B[38;5;241;43m.\u001B[39;49m\u001B[43msplit\u001B[49m(\u001B[38;5;124m'\u001B[39m\u001B[38;5;124m \u001B[39m\u001B[38;5;124m'\u001B[39m)\n\u001B[1;32m      3\u001B[0m     str2_list \u001B[38;5;241m=\u001B[39m str2\u001B[38;5;241m.\u001B[39msplit(\u001B[38;5;124m'\u001B[39m\u001B[38;5;124m \u001B[39m\u001B[38;5;124m'\u001B[39m)\n\u001B[1;32m      4\u001B[0m     i \u001B[38;5;241m=\u001B[39m \u001B[38;5;241m0\u001B[39m\n",
      "File \u001B[0;32m/opt/homebrew/anaconda3/envs/research/lib/python3.8/site-packages/pandas/core/generic.py:5902\u001B[0m, in \u001B[0;36mNDFrame.__getattr__\u001B[0;34m(self, name)\u001B[0m\n\u001B[1;32m   5895\u001B[0m \u001B[38;5;28;01mif\u001B[39;00m (\n\u001B[1;32m   5896\u001B[0m     name \u001B[38;5;129;01mnot\u001B[39;00m \u001B[38;5;129;01min\u001B[39;00m \u001B[38;5;28mself\u001B[39m\u001B[38;5;241m.\u001B[39m_internal_names_set\n\u001B[1;32m   5897\u001B[0m     \u001B[38;5;129;01mand\u001B[39;00m name \u001B[38;5;129;01mnot\u001B[39;00m \u001B[38;5;129;01min\u001B[39;00m \u001B[38;5;28mself\u001B[39m\u001B[38;5;241m.\u001B[39m_metadata\n\u001B[1;32m   5898\u001B[0m     \u001B[38;5;129;01mand\u001B[39;00m name \u001B[38;5;129;01mnot\u001B[39;00m \u001B[38;5;129;01min\u001B[39;00m \u001B[38;5;28mself\u001B[39m\u001B[38;5;241m.\u001B[39m_accessors\n\u001B[1;32m   5899\u001B[0m     \u001B[38;5;129;01mand\u001B[39;00m \u001B[38;5;28mself\u001B[39m\u001B[38;5;241m.\u001B[39m_info_axis\u001B[38;5;241m.\u001B[39m_can_hold_identifiers_and_holds_name(name)\n\u001B[1;32m   5900\u001B[0m ):\n\u001B[1;32m   5901\u001B[0m     \u001B[38;5;28;01mreturn\u001B[39;00m \u001B[38;5;28mself\u001B[39m[name]\n\u001B[0;32m-> 5902\u001B[0m \u001B[38;5;28;01mreturn\u001B[39;00m \u001B[38;5;28;43mobject\u001B[39;49m\u001B[38;5;241;43m.\u001B[39;49m\u001B[38;5;21;43m__getattribute__\u001B[39;49m\u001B[43m(\u001B[49m\u001B[38;5;28;43mself\u001B[39;49m\u001B[43m,\u001B[49m\u001B[43m \u001B[49m\u001B[43mname\u001B[49m\u001B[43m)\u001B[49m\n",
      "\u001B[0;31mAttributeError\u001B[0m: 'Series' object has no attribute 'split'"
     ]
    }
   ],
   "source": [
    "# nlp = spacy.load(\"en_core_web_lg\")\n",
    "for index, row in tqdm(df.iterrows()):\n",
    "    judge_text = find_insert_text(row['q1'], row['q2'])\n",
    "    row['insert_text'] = judge_text\n",
    "    # doc = nlp(judge_text)\n",
    "    # if len(doc.ents) > 0:\n",
    "    #     for ent in doc.ents:\n",
    "    #         row[ent.label_] += 1\n",
    "    #         if row[ent.label_] == 1:\n",
    "    #             row[ent.label_ + '_text'] = ent.text\n",
    "    #         else:\n",
    "    #             row[ent.label_ + '_text'] += ',' + ent.text\n",
    "    #     df_copy = pd.concat([df_copy, row.to_frame().T], axis=0)\n",
    "df_copy.to_csv('res' + file_path.replace('xlsx','csv'), index=False)"
   ]
  },
  {
   "cell_type": "code",
   "execution_count": null,
   "outputs": [],
   "source": [],
   "metadata": {
    "collapsed": false
   }
  }
 ],
 "metadata": {
  "kernelspec": {
   "display_name": "Python 3 (ipykernel)",
   "language": "python",
   "name": "python3"
  },
  "language_info": {
   "codemirror_mode": {
    "name": "ipython",
    "version": 3
   },
   "file_extension": ".py",
   "mimetype": "text/x-python",
   "name": "python",
   "nbconvert_exporter": "python",
   "pygments_lexer": "ipython3",
   "version": "3.8.16"
  }
 },
 "nbformat": 4,
 "nbformat_minor": 1
}
