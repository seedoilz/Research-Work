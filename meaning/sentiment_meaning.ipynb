{
 "cells": [
  {
   "cell_type": "code",
   "execution_count": 1,
   "metadata": {
    "ExecuteTime": {
     "end_time": "2023-07-08T05:54:46.670906Z",
     "start_time": "2023-07-08T05:54:46.499180Z"
    }
   },
   "outputs": [],
   "source": [
    "import openpyxl"
   ]
  },
  {
   "cell_type": "code",
   "execution_count": 2,
   "metadata": {
    "ExecuteTime": {
     "end_time": "2023-07-08T05:55:21.548377Z",
     "start_time": "2023-07-08T05:55:17.110638Z"
    }
   },
   "outputs": [],
   "source": [
    "workbook = openpyxl.load_workbook('./sst_test_map_syn_t5.xlsx')\n",
    "sheet = workbook.active\n",
    "res_workbook_1 = openpyxl.Workbook()\n",
    "res_sheet_1 = res_workbook_1.active\n",
    "res_workbook_2 = openpyxl.Workbook()\n",
    "res_sheet_2 = res_workbook_2.active\n",
    "threshold = 0.1"
   ]
  },
  {
   "cell_type": "code",
   "execution_count": 3,
   "metadata": {
    "ExecuteTime": {
     "end_time": "2023-07-08T05:55:24.312383Z",
     "start_time": "2023-07-08T05:55:23.871784Z"
    }
   },
   "outputs": [],
   "source": [
    "temp_list = []\n",
    "former_row = None\n",
    "index_set_1 = set([])\n",
    "index_set_2 = set([])\n",
    "first = True\n",
    "for row in sheet.iter_rows(min_row=1, min_col=1, max_row=sheet.max_row, max_col=sheet.max_column):\n",
    "    if first:\n",
    "        first = False\n",
    "        continue\n",
    "    # first situation\n",
    "    if int(row[12].value) != 0 and row[0].value == former_row[0].value:\n",
    "        temp_list.append(row)\n",
    "    else:\n",
    "        for i in range(len(temp_list)-1):\n",
    "            for j in range(i+1, len(temp_list)):\n",
    "                if abs(temp_list[i][10].value - temp_list[j][10].value) >= threshold:\n",
    "                    index_set_1.add(int(temp_list[i][12].value))\n",
    "                    index_set_1.add(int(temp_list[j][12].value))\n",
    "        temp_list = [row]\n",
    "    # second situation\n",
    "    if row[5].value == 1:#if positive\n",
    "        # then the latter positive score must be higher than the former one\n",
    "        if row[10].value - row[2].value >= threshold:\n",
    "            index_set_2.add(int(row[12].value))\n",
    "    else: #vice versa\n",
    "        if row[11].value - row[3].value >= threshold:\n",
    "            index_set_2.add(int(row[12].value))\n",
    "    former_row = row"
   ]
  },
  {
   "cell_type": "code",
   "execution_count": 4,
   "metadata": {
    "ExecuteTime": {
     "end_time": "2023-07-08T05:55:25.105575Z",
     "start_time": "2023-07-08T05:55:25.096112Z"
    }
   },
   "outputs": [],
   "source": [
    "index_list_1 = list(index_set_1)\n",
    "index_list_2 = list(index_set_2)"
   ]
  },
  {
   "cell_type": "code",
   "execution_count": 5,
   "metadata": {
    "ExecuteTime": {
     "end_time": "2023-07-08T06:02:29.291158Z",
     "start_time": "2023-07-08T05:55:25.636957Z"
    }
   },
   "outputs": [
    {
     "name": "stderr",
     "output_type": "stream",
     "text": [
      "100%|██████████| 10982/10982 [04:31<00:00, 40.48it/s]\n",
      "100%|██████████| 6159/6159 [02:32<00:00, 40.43it/s]\n"
     ]
    }
   ],
   "source": [
    "from tqdm import tqdm\n",
    "for index in tqdm(index_list_1):\n",
    "    res_sheet_1.append([cell.value for cell in sheet[index+2]])\n",
    "for index in tqdm(index_list_2):\n",
    "    res_sheet_2.append([cell.value for cell in sheet[index+2]])"
   ]
  },
  {
   "cell_type": "code",
   "execution_count": 6,
   "metadata": {
    "ExecuteTime": {
     "end_time": "2023-07-08T06:02:36.678509Z",
     "start_time": "2023-07-08T06:02:35.496320Z"
    }
   },
   "outputs": [],
   "source": [
    "res_workbook_1.save('./res_1_sentiment_meaning_t5.xlsx')\n",
    "res_workbook_2.save('./res_2_sentiment_meaning_t5.xlsx')"
   ]
  },
  {
   "cell_type": "code",
   "execution_count": null,
   "outputs": [],
   "source": [],
   "metadata": {
    "collapsed": false
   }
  }
 ],
 "metadata": {
  "kernelspec": {
   "display_name": "Python 3 (ipykernel)",
   "language": "python",
   "name": "python3"
  },
  "language_info": {
   "codemirror_mode": {
    "name": "ipython",
    "version": 3
   },
   "file_extension": ".py",
   "mimetype": "text/x-python",
   "name": "python",
   "nbconvert_exporter": "python",
   "pygments_lexer": "ipython3",
   "version": "3.8.16"
  }
 },
 "nbformat": 4,
 "nbformat_minor": 1
}
