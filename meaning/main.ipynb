{
 "cells": [
  {
   "cell_type": "code",
   "execution_count": 1,
   "outputs": [],
   "source": [
    "import openpyxl"
   ],
   "metadata": {
    "collapsed": false,
    "ExecuteTime": {
     "end_time": "2023-06-18T07:33:06.927533Z",
     "start_time": "2023-06-18T07:33:06.727814Z"
    }
   }
  },
  {
   "cell_type": "code",
   "execution_count": 2,
   "outputs": [],
   "source": [
    "workbook = openpyxl.load_workbook('./sst_test_map_deberta.xlsx')\n",
    "sheet = workbook.active\n",
    "res_workbook = openpyxl.Workbook()\n",
    "res_sheet = res_workbook.active\n",
    "threshold = 0.1"
   ],
   "metadata": {
    "collapsed": false,
    "ExecuteTime": {
     "end_time": "2023-06-18T07:33:19.803020Z",
     "start_time": "2023-06-18T07:33:06.937008Z"
    }
   }
  },
  {
   "cell_type": "code",
   "execution_count": 3,
   "outputs": [],
   "source": [
    "temp_list = []\n",
    "former_row = None\n",
    "index_set = set([])\n",
    "for row in sheet.iter_rows(min_row=1, min_col=1, max_row=sheet.max_row, max_col=sheet.max_column):\n",
    "    # first situation\n",
    "    if int(row[12].value) != 0 and row[0].value == former_row[0].value:\n",
    "        temp_list.append(row)\n",
    "    else:\n",
    "        for i in range(len(temp_list)-1):\n",
    "            for j in range(i+1, len(temp_list)):\n",
    "                if abs(temp_list[i][10].value - temp_list[j][10].value) >= 0.1:\n",
    "                    index_set.add(int(temp_list[i][12].value))\n",
    "                    index_set.add(int(temp_list[j][12].value))\n",
    "        temp_list = [row]\n",
    "    # second situation\n",
    "    if row[5].value == 1:#if positive\n",
    "        # then the latter positive score must be higher than the former one\n",
    "        if row[11].value < row[3].value:\n",
    "            index_set.add(int(row[12].value))\n",
    "    else: #vice versa\n",
    "        if row[10].value < row[2].value:\n",
    "            index_set.add(int(row[12].value))\n",
    "    former_row = row"
   ],
   "metadata": {
    "collapsed": false,
    "ExecuteTime": {
     "end_time": "2023-06-18T07:33:20.859630Z",
     "start_time": "2023-06-18T07:33:19.865854Z"
    }
   }
  },
  {
   "cell_type": "code",
   "execution_count": 9,
   "outputs": [
    {
     "name": "stdout",
     "output_type": "stream",
     "text": [
      "57094\n",
      "0\n"
     ]
    }
   ],
   "source": [
    "index_list = list(index_set)"
   ],
   "metadata": {
    "collapsed": false,
    "ExecuteTime": {
     "end_time": "2023-06-18T07:36:48.619380Z",
     "start_time": "2023-06-18T07:36:48.614989Z"
    }
   }
  },
  {
   "cell_type": "code",
   "execution_count": 11,
   "outputs": [
    {
     "ename": "KeyboardInterrupt",
     "evalue": "",
     "output_type": "error",
     "traceback": [
      "\u001B[0;31m---------------------------------------------------------------------------\u001B[0m",
      "\u001B[0;31mKeyboardInterrupt\u001B[0m                         Traceback (most recent call last)",
      "Cell \u001B[0;32mIn[11], line 2\u001B[0m\n\u001B[1;32m      1\u001B[0m \u001B[38;5;28;01mfor\u001B[39;00m index \u001B[38;5;129;01min\u001B[39;00m index_list:\n\u001B[0;32m----> 2\u001B[0m     res_sheet\u001B[38;5;241m.\u001B[39mappend([cell\u001B[38;5;241m.\u001B[39mvalue \u001B[38;5;28;01mfor\u001B[39;00m cell \u001B[38;5;129;01min\u001B[39;00m \u001B[43msheet\u001B[49m\u001B[43m[\u001B[49m\u001B[43mindex\u001B[49m\u001B[38;5;241;43m+\u001B[39;49m\u001B[38;5;241;43m1\u001B[39;49m\u001B[43m]\u001B[49m])\n",
      "File \u001B[0;32m/opt/homebrew/anaconda3/envs/research/lib/python3.8/site-packages/openpyxl/worksheet/worksheet.py:307\u001B[0m, in \u001B[0;36mWorksheet.__getitem__\u001B[0;34m(self, key)\u001B[0m\n\u001B[1;32m    304\u001B[0m     \u001B[38;5;28;01mreturn\u001B[39;00m cols\n\u001B[1;32m    305\u001B[0m \u001B[38;5;28;01mif\u001B[39;00m min_col \u001B[38;5;129;01mis\u001B[39;00m \u001B[38;5;28;01mNone\u001B[39;00m:\n\u001B[1;32m    306\u001B[0m     rows \u001B[38;5;241m=\u001B[39m \u001B[38;5;28mtuple\u001B[39m(\u001B[38;5;28mself\u001B[39m\u001B[38;5;241m.\u001B[39miter_rows(min_col\u001B[38;5;241m=\u001B[39mmin_col, min_row\u001B[38;5;241m=\u001B[39mmin_row,\n\u001B[0;32m--> 307\u001B[0m                                 max_col\u001B[38;5;241m=\u001B[39m\u001B[38;5;28;43mself\u001B[39;49m\u001B[38;5;241;43m.\u001B[39;49m\u001B[43mmax_column\u001B[49m, max_row\u001B[38;5;241m=\u001B[39mmax_row))\n\u001B[1;32m    308\u001B[0m     \u001B[38;5;28;01mif\u001B[39;00m min_row \u001B[38;5;241m==\u001B[39m max_row:\n\u001B[1;32m    309\u001B[0m         rows \u001B[38;5;241m=\u001B[39m rows[\u001B[38;5;241m0\u001B[39m]\n",
      "File \u001B[0;32m/opt/homebrew/anaconda3/envs/research/lib/python3.8/site-packages/openpyxl/worksheet/worksheet.py:378\u001B[0m, in \u001B[0;36mWorksheet.max_column\u001B[0;34m(self)\u001B[0m\n\u001B[1;32m    376\u001B[0m max_col \u001B[38;5;241m=\u001B[39m \u001B[38;5;241m1\u001B[39m\n\u001B[1;32m    377\u001B[0m \u001B[38;5;28;01mif\u001B[39;00m \u001B[38;5;28mself\u001B[39m\u001B[38;5;241m.\u001B[39m_cells:\n\u001B[0;32m--> 378\u001B[0m     cols \u001B[38;5;241m=\u001B[39m \u001B[38;5;28;43mset\u001B[39;49m\u001B[43m(\u001B[49m\u001B[43mc\u001B[49m\u001B[43m[\u001B[49m\u001B[38;5;241;43m1\u001B[39;49m\u001B[43m]\u001B[49m\u001B[43m \u001B[49m\u001B[38;5;28;43;01mfor\u001B[39;49;00m\u001B[43m \u001B[49m\u001B[43mc\u001B[49m\u001B[43m \u001B[49m\u001B[38;5;129;43;01min\u001B[39;49;00m\u001B[43m \u001B[49m\u001B[38;5;28;43mself\u001B[39;49m\u001B[38;5;241;43m.\u001B[39;49m\u001B[43m_cells\u001B[49m\u001B[43m)\u001B[49m\n\u001B[1;32m    379\u001B[0m     max_col \u001B[38;5;241m=\u001B[39m \u001B[38;5;28mmax\u001B[39m(cols)\n\u001B[1;32m    380\u001B[0m \u001B[38;5;28;01mreturn\u001B[39;00m max_col\n",
      "File \u001B[0;32m/opt/homebrew/anaconda3/envs/research/lib/python3.8/site-packages/openpyxl/worksheet/worksheet.py:378\u001B[0m, in \u001B[0;36m<genexpr>\u001B[0;34m(.0)\u001B[0m\n\u001B[1;32m    376\u001B[0m max_col \u001B[38;5;241m=\u001B[39m \u001B[38;5;241m1\u001B[39m\n\u001B[1;32m    377\u001B[0m \u001B[38;5;28;01mif\u001B[39;00m \u001B[38;5;28mself\u001B[39m\u001B[38;5;241m.\u001B[39m_cells:\n\u001B[0;32m--> 378\u001B[0m     cols \u001B[38;5;241m=\u001B[39m \u001B[38;5;28mset\u001B[39m(c[\u001B[38;5;241m1\u001B[39m] \u001B[38;5;28;01mfor\u001B[39;00m c \u001B[38;5;129;01min\u001B[39;00m \u001B[38;5;28mself\u001B[39m\u001B[38;5;241m.\u001B[39m_cells)\n\u001B[1;32m    379\u001B[0m     max_col \u001B[38;5;241m=\u001B[39m \u001B[38;5;28mmax\u001B[39m(cols)\n\u001B[1;32m    380\u001B[0m \u001B[38;5;28;01mreturn\u001B[39;00m max_col\n",
      "\u001B[0;31mKeyboardInterrupt\u001B[0m: "
     ]
    }
   ],
   "source": [
    "from tqdm import tqdm\n",
    "for index in tqdm(index_list):\n",
    "    res_sheet.append([cell.value for cell in sheet[index+1]])"
   ],
   "metadata": {
    "collapsed": false,
    "ExecuteTime": {
     "end_time": "2023-06-18T07:41:50.142879Z",
     "start_time": "2023-06-18T07:39:16.371068Z"
    }
   }
  },
  {
   "cell_type": "code",
   "execution_count": null,
   "outputs": [],
   "source": [
    "res_workbook.save('./res_deberta.xlsx')"
   ],
   "metadata": {
    "collapsed": false
   }
  }
 ],
 "metadata": {
  "kernelspec": {
   "display_name": "Python 3",
   "language": "python",
   "name": "python3"
  },
  "language_info": {
   "codemirror_mode": {
    "name": "ipython",
    "version": 2
   },
   "file_extension": ".py",
   "mimetype": "text/x-python",
   "name": "python",
   "nbconvert_exporter": "python",
   "pygments_lexer": "ipython2",
   "version": "2.7.6"
  }
 },
 "nbformat": 4,
 "nbformat_minor": 0
}
