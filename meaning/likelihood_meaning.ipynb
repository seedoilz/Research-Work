{
 "cells": [
  {
   "cell_type": "code",
   "execution_count": 4,
   "metadata": {
    "ExecuteTime": {
     "end_time": "2023-06-24T04:45:18.504375Z",
     "start_time": "2023-06-24T04:45:18.497575Z"
    },
    "collapsed": true
   },
   "outputs": [],
   "source": [
    "import pandas as pd\n",
    "from tqdm import tqdm\n",
    "from transformers import pipeline\n",
    "from transformers import AutoModel, AutoTokenizer, AutoModelForSeq2SeqLM, AutoModelForSequenceClassification"
   ]
  },
  {
   "cell_type": "code",
   "execution_count": 5,
   "metadata": {
    "ExecuteTime": {
     "end_time": "2023-06-24T04:45:20.126549Z",
     "start_time": "2023-06-24T04:45:20.121090Z"
    }
   },
   "outputs": [],
   "source": [
    "def find_insert_text(str1, str2):\n",
    "    str1_list = str1.split(' ')\n",
    "    str2_list = str2.split(' ')\n",
    "    i = 0\n",
    "    j = 0\n",
    "    res = ''\n",
    "    for j in range(len(str2_list)):\n",
    "        if str1_list[i] != str2_list[j]:\n",
    "            res += str2_list[j] + ' '\n",
    "        else:\n",
    "            i += 1\n",
    "        if i == len(str1_list):\n",
    "            break\n",
    "    return res"
   ]
  },
  {
   "cell_type": "code",
   "execution_count": 9,
   "metadata": {
    "ExecuteTime": {
     "end_time": "2023-06-22T14:30:26.216162Z",
     "start_time": "2023-06-22T14:30:25.782638Z"
    }
   },
   "outputs": [],
   "source": [
    "model = 'deberta'\n",
    "if model == 't5':\n",
    "    model_name = \"PavanNeerudu/t5-base-finetuned-qqp\"\n",
    "    MODEL = AutoModelForSeq2SeqLM.from_pretrained(\"./t5\")\n",
    "    tokenizer = AutoTokenizer.from_pretrained(\"./t5\")\n",
    "    nlp = pipeline('text2text-generation', model=MODEL, tokenizer=tokenizer, device=0)\n",
    "elif model == 'deberta':\n",
    "    model_name = \"Tomor0720/deberta-large-finetuned-qqp\"\n",
    "    MODEL = AutoModelForSequenceClassification.from_pretrained(\"./deberta\")\n",
    "    tokenizer = AutoTokenizer.from_pretrained(\"./deberta\")\n",
    "    nlp = pipeline('text-classification', model=MODEL, tokenizer=tokenizer, device=0)\n",
    "else:\n",
    "    raise Exception\n",
    "df = pd.read_csv('./qqp_lego.tsv', sep='\\t')\n",
    "df['index'] = df.reset_index().index"
   ]
  },
  {
   "cell_type": "code",
   "execution_count": null,
   "metadata": {},
   "outputs": [],
   "source": [
    "def t5_get_label(question1, question2, nlp):\n",
    "    input_text = \"qqp question1: \" + question1 + \"question2: \" + question2\n",
    "    res = nlp(input_text)\n",
    "    if 'generated_text' in res[0]:\n",
    "        return res[0]['generated_text']\n",
    "    else:\n",
    "        return ''\n",
    "\n",
    "def deberta_get_label(question1, question2, nlp):\n",
    "    input_text = question1 + \" \" + question2\n",
    "    res = nlp(input_text)\n",
    "    if res[0]['label'] == 'LABEL_0':\n",
    "        return 'not_duplicate'\n",
    "    elif res[0]['label'] == 'LABEL_1':\n",
    "        return 'duplicate'\n",
    "    else:\n",
    "        return \"ERROR\"\n",
    "\n",
    "def get_label(question1, question2, nlp):\n",
    "    if model == 't5':\n",
    "        return t5_get_label(question1, question2, nlp)\n",
    "    elif model == 'deberta':\n",
    "        return deberta_get_label(question1, question2, nlp)\n",
    "    else:\n",
    "        return ''"
   ]
  },
  {
   "cell_type": "code",
   "execution_count": null,
   "metadata": {},
   "outputs": [],
   "source": [
    "former_text = ''\n",
    "index_set = set()\n",
    "alone_index_set = set()\n",
    "row_list = []\n",
    "for index, row in tqdm(df.iterrows()):\n",
    "    if index == 0:\n",
    "        former_text = row['text_a']\n",
    "    if row['text_a'] == former_text:\n",
    "        row_list.append(row)\n",
    "    else:\n",
    "        if len(row_list) <= 1:\n",
    "            former_text = row['text_a']\n",
    "            row_list = [row]\n",
    "            alone_index_set.add(int(row_list[0]['index']))\n",
    "            continue\n",
    "        right_row_list = []\n",
    "        wrong_row_list = []\n",
    "        for sub_row in row_list:\n",
    "            if get_label(sub_row['text_a'], sub_row['text_b'], nlp) == 'duplicate':\n",
    "                wrong_row_list.append(sub_row)\n",
    "            else:\n",
    "                right_row_list.append(sub_row)\n",
    "        for i in range(len(right_row_list)):\n",
    "            for j in range(len(wrong_row_list)):\n",
    "                right_insert_text = find_insert_text(right_row_list[i]['text_a'], right_row_list[i]['text_b'])\n",
    "                wrong_insert_text = find_insert_text(wrong_row_list[j]['text_a'], wrong_row_list[j]['text_b'])\n",
    "                if get_label(right_insert_text,wrong_insert_text,nlp) == 'duplicate':\n",
    "                    if get_label(right_row_list[i]['text_b'], wrong_row_list[j]['text_b'], nlp) != 'duplicate':\n",
    "                        index_set.add(int(right_row_list[i]['index']))\n",
    "                        index_set.add(int(wrong_row_list[j]['index']))\n",
    "        former_text = row['text_a']\n",
    "        row_list = [row]"
   ]
  },
  {
   "cell_type": "code",
   "execution_count": null,
   "metadata": {},
   "outputs": [],
   "source": [
    "res_df = pd.DataFrame()\n",
    "for l in list(index_set):\n",
    "    res_df.append(df.iloc[l], ignore_index=True)\n",
    "res_df.to_csv('result_' + model + '_meaning_likelihood.tsv', sep='\\t')\n",
    "alone_df = pd.DataFrame()\n",
    "for l in list(alone_index_set):\n",
    "    alone_df.append(df.iloc[i], ignore_index=True)\n",
    "alone_df.to_csv('alone_' + 'result_' + model + '_meaning_likelihood.tsv', sep='\\t')"
   ]
  }
 ],
 "metadata": {
  "kernelspec": {
   "display_name": "Python 3 (ipykernel)",
   "language": "python",
   "name": "python3"
  },
  "language_info": {
   "codemirror_mode": {
    "name": "ipython",
    "version": 3
   },
   "file_extension": ".py",
   "mimetype": "text/x-python",
   "name": "python",
   "nbconvert_exporter": "python",
   "pygments_lexer": "ipython3",
   "version": "3.8.16"
  }
 },
 "nbformat": 4,
 "nbformat_minor": 1
}
