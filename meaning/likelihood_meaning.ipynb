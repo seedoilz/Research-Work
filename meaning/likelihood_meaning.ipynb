{
 "cells": [
  {
   "cell_type": "code",
   "execution_count": null,
   "metadata": {
    "collapsed": true
   },
   "outputs": [],
   "source": [
    "import pandas as pd\n",
    "from tqdm import tqdm\n",
    "from transformers import pipeline\n",
    "from transformers import AutoModel, AutoTokenizer, AutoModelForSeq2SeqLM, AutoModelForSequenceClassification"
   ]
  },
  {
   "cell_type": "code",
   "execution_count": null,
   "metadata": {},
   "outputs": [],
   "source": [
    "def find_insert_text(str1, str2):\n",
    "    str1_list = str1.split(' ')\n",
    "    str2_list = str2.split(' ')\n",
    "    i = 0\n",
    "    j = 0\n",
    "    res = ''\n",
    "    for j in range(len(str2_list)):\n",
    "        if str1_list[i] != str2_list[j]:\n",
    "            res += str2_list[j] + ' '\n",
    "        else:\n",
    "            i += 1\n",
    "        if i == len(str1_list):\n",
    "            break\n",
    "    return res"
   ]
  },
  {
   "cell_type": "code",
   "execution_count": null,
   "metadata": {},
   "outputs": [],
   "source": [
    "model = 'deberta'\n",
    "if model == 't5':\n",
    "    model_name = \"PavanNeerudu/t5-base-finetuned-qqp\"\n",
    "    MODEL = AutoModelForSeq2SeqLM.from_pretrained(\"./t5\")\n",
    "    tokenizer = AutoTokenizer.from_pretrained(\"./t5\")\n",
    "    nlp = pipeline('text2text-generation', model=MODEL, tokenizer=tokenizer, device=0)\n",
    "elif model == 'deberta':\n",
    "    model_name = \"Tomor0720/deberta-large-finetuned-qqp\"\n",
    "    MODEL = AutoModelForSequenceClassification.from_pretrained(\"./deberta\")\n",
    "    tokenizer = AutoTokenizer.from_pretrained(\"./deberta\")\n",
    "    nlp = pipeline('text-classification', model=MODEL, tokenizer=tokenizer, device=0)\n",
    "else:\n",
    "    raise Exception"
   ]
  },
  {
   "cell_type": "code",
   "execution_count": null,
   "outputs": [],
   "source": [
    "df = pd.read_csv('./qqp_lego.tsv', sep='\\t')"
   ],
   "metadata": {
    "collapsed": false
   }
  },
  {
   "cell_type": "code",
   "execution_count": null,
   "metadata": {},
   "outputs": [],
   "source": [
    "def t5_get_label(question1, question2, nlp):\n",
    "    input_text = \"qqp question1: \" + question1 + \"question2: \" + question2\n",
    "    res = nlp(input_text)\n",
    "    if 'generated_text' in res[0]:\n",
    "        return res[0]['generated_text']\n",
    "    else:\n",
    "        return ''\n",
    "\n",
    "def deberta_get_label(question1, question2, nlp):\n",
    "    input_text = question1 + \" \" + question2\n",
    "    res = nlp(input_text)\n",
    "    if res[0]['label'] == 'LABEL_0':\n",
    "        return 'not_duplicate'\n",
    "    elif res[0]['label'] == 'LABEL_1':\n",
    "        return 'duplicate'\n",
    "    else:\n",
    "        return \"ERROR\"\n",
    "\n",
    "def get_label(question1, question2, nlp):\n",
    "    if model == 't5':\n",
    "        return t5_get_label(question1, question2, nlp)\n",
    "    elif model == 'deberta':\n",
    "        return deberta_get_label(question1, question2, nlp)\n",
    "    else:\n",
    "        return ''"
   ]
  },
  {
   "cell_type": "code",
   "execution_count": null,
   "metadata": {},
   "outputs": [],
   "source": [
    "former_text = ''\n",
    "row_list = []\n",
    "res_df = pd.DataFrame(columns=['group_no', 'original_text' ,'text_a', 'insert_text_a','text_b', 'insert_text_b', 'wrong_reason'])\n",
    "group_no = 1\n",
    "group_add = False\n",
    "for index, row in tqdm(df.iterrows()):\n",
    "    if index == 0:\n",
    "        former_text = row['text_a']\n",
    "    if str(row['text_a']) == str(former_text):\n",
    "        row_list.append(row)\n",
    "    else:\n",
    "        for i in range(len(row_list)-1):\n",
    "            for j in range(i+1, len(row_list)):\n",
    "                insert_text_a = find_insert_text(row_list[i]['text_a'], row_list[i]['text_b'])\n",
    "                insert_text_b = find_insert_text(row_list[j]['text_a'], row_list[j]['text_b'])\n",
    "                insert_same = get_label(insert_text_a, insert_text_b, nlp)\n",
    "                context_same = get_label(row_list[i]['text_b'], row_list[j]['text_b'], nlp)\n",
    "#                 print(insert_same, context_same)\n",
    "                if insert_same != context_same:\n",
    "                    group_add = True\n",
    "                    if insert_same == 'duplicate':\n",
    "                        new_row = {'group_no':group_no, 'original_text':row_list[i]['text_a'], 'text_a':row_list[i]['text_b'], 'insert_text_a':insert_text_a, 'text_b':row_list[j]['text_b'], 'insert_text_b':insert_text_b, 'wrong_reason':'same meaning insert, different meaning context'}\n",
    "                        res_df.loc[len(res_df)] = new_row\n",
    "                    else:\n",
    "                        new_row = {'group_no':group_no, 'original_text':row_list[i]['text_a'], 'text_a':row_list[i]['text_b'], 'insert_text_a':insert_text_a, 'text_b':row_list[j]['text_b'], 'insert_text_b':insert_text_b, 'wrong_reason':'same meaning context, different meaning insert'}\n",
    "                        res_df.loc[len(res_df)] = new_row\n",
    "        if group_add:\n",
    "            group_no = group_no + 1\n",
    "            group_add = False\n",
    "        former_text = str(row['text_a'])\n",
    "        row_list = [row]\n",
    "    former_text = str(row['text_a'])"
   ]
  },
  {
   "cell_type": "code",
   "execution_count": null,
   "metadata": {},
   "outputs": [],
   "source": [
    "res_df.to_csv(model + '_SSM_词义理解_result.csv')"
   ]
  }
 ],
 "metadata": {
  "kernelspec": {
   "display_name": "Python 3 (ipykernel)",
   "language": "python",
   "name": "python3"
  },
  "language_info": {
   "codemirror_mode": {
    "name": "ipython",
    "version": 3
   },
   "file_extension": ".py",
   "mimetype": "text/x-python",
   "name": "python",
   "nbconvert_exporter": "python",
   "pygments_lexer": "ipython3",
   "version": "3.8.16"
  }
 },
 "nbformat": 4,
 "nbformat_minor": 1
}
