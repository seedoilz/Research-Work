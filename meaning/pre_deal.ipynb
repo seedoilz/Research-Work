{
 "cells": [
  {
   "cell_type": "code",
   "execution_count": 4,
   "metadata": {
    "ExecuteTime": {
     "end_time": "2023-06-21T03:58:37.205882Z",
     "start_time": "2023-06-21T03:58:37.202350Z"
    },
    "collapsed": true
   },
   "outputs": [],
   "source": [
    "import pandas as pd"
   ]
  },
  {
   "cell_type": "code",
   "execution_count": 5,
   "metadata": {
    "ExecuteTime": {
     "end_time": "2023-06-21T03:58:38.400868Z",
     "start_time": "2023-06-21T03:58:37.678264Z"
    }
   },
   "outputs": [],
   "source": [
    "df_all = pd.read_csv('./qqp_lego.tsv', sep='\\t')\n",
    "df_fault = pd.read_csv('./result_deberta.tsv', sep='\\t')"
   ]
  },
  {
   "cell_type": "code",
   "execution_count": 6,
   "metadata": {
    "ExecuteTime": {
     "end_time": "2023-06-21T03:58:39.994737Z",
     "start_time": "2023-06-21T03:58:39.990960Z"
    }
   },
   "outputs": [],
   "source": [
    "df_res = pd.DataFrame(columns=['text_a', 'text_b'])"
   ]
  },
  {
   "cell_type": "code",
   "execution_count": 9,
   "metadata": {
    "ExecuteTime": {
     "end_time": "2023-06-21T04:02:25.068085Z",
     "start_time": "2023-06-21T04:01:19.561303Z"
    }
   },
   "outputs": [
    {
     "name": "stderr",
     "output_type": "stream",
     "text": [
      "0it [00:00, ?it/s]\n",
      "1it [00:00, 55.04it/s]\n",
      "2it [00:00, 119.36it/s]\n",
      "3it [00:00, 168.01it/s]\n",
      "4it [00:00, 238.24it/s]\n",
      "5it [00:00, 271.98it/s]\n",
      "6it [00:00, 371.50it/s]\n",
      "7it [00:00, 387.40it/s]\n",
      "8it [00:00, 489.03it/s]\n",
      "9it [00:00, 471.68it/s]\n",
      "10it [00:00, 619.54it/s]\n",
      "11it [00:00, 637.89it/s]\n",
      "12it [00:00, 741.48it/s]\n",
      "13it [00:00, 772.75it/s]\n",
      "14it [00:00, 828.83it/s]\n",
      "15it [00:00, 868.00it/s]\n",
      "16it [00:00, 953.85it/s]\n",
      "17it [00:00, 877.13it/s]\n",
      "18it [00:00, 1008.35it/s]\n",
      "19it [00:00, 1054.14it/s]\n",
      "20it [00:00, 1120.32it/s]\n",
      "21it [00:00, 1212.46it/s]\n",
      "22it [00:00, 1299.55it/s]\n",
      "23it [00:00, 1288.43it/s]\n",
      "24it [00:00, 1503.56it/s]\n",
      "25it [00:00, 1481.94it/s]\n",
      "26it [00:00, 1701.01it/s]\n",
      "27it [00:00, 1628.46it/s]\n",
      "28it [00:00, 1772.82it/s]\n",
      "29it [00:00, 1502.54it/s]\n",
      "169867it [00:02, 72039.56it/s]\n",
      "/var/folders/ys/jp4568v17zscf70nxjvc_mh40000gn/T/ipykernel_33089/2602433118.py:10: FutureWarning: The frame.append method is deprecated and will be removed from pandas in a future version. Use pandas.concat instead.\n",
      "  df_res.append(new_data, ignore_index=True)\n",
      "169867it [00:02, 72305.24it/s]\n",
      "/var/folders/ys/jp4568v17zscf70nxjvc_mh40000gn/T/ipykernel_33089/2602433118.py:10: FutureWarning: The frame.append method is deprecated and will be removed from pandas in a future version. Use pandas.concat instead.\n",
      "  df_res.append(new_data, ignore_index=True)\n",
      "169867it [00:02, 72294.88it/s]\n",
      "/var/folders/ys/jp4568v17zscf70nxjvc_mh40000gn/T/ipykernel_33089/2602433118.py:10: FutureWarning: The frame.append method is deprecated and will be removed from pandas in a future version. Use pandas.concat instead.\n",
      "  df_res.append(new_data, ignore_index=True)\n",
      "169867it [00:02, 71721.40it/s]\n",
      "/var/folders/ys/jp4568v17zscf70nxjvc_mh40000gn/T/ipykernel_33089/2602433118.py:10: FutureWarning: The frame.append method is deprecated and will be removed from pandas in a future version. Use pandas.concat instead.\n",
      "  df_res.append(new_data, ignore_index=True)\n",
      "30it [00:00, 1933.96it/s]\n",
      "169867it [00:02, 72105.65it/s]\n",
      "/var/folders/ys/jp4568v17zscf70nxjvc_mh40000gn/T/ipykernel_33089/2602433118.py:10: FutureWarning: The frame.append method is deprecated and will be removed from pandas in a future version. Use pandas.concat instead.\n",
      "  df_res.append(new_data, ignore_index=True)\n",
      "169867it [00:02, 72073.46it/s]\n",
      "/var/folders/ys/jp4568v17zscf70nxjvc_mh40000gn/T/ipykernel_33089/2602433118.py:10: FutureWarning: The frame.append method is deprecated and will be removed from pandas in a future version. Use pandas.concat instead.\n",
      "  df_res.append(new_data, ignore_index=True)\n",
      "31it [00:00, 1929.90it/s]\n",
      "32it [00:00, 2015.01it/s]\n",
      "33it [00:00, 1932.43it/s]\n",
      "34it [00:00, 2203.20it/s]\n",
      "35it [00:00, 2107.81it/s]\n",
      "169867it [00:02, 71940.65it/s]\n",
      "/var/folders/ys/jp4568v17zscf70nxjvc_mh40000gn/T/ipykernel_33089/2602433118.py:10: FutureWarning: The frame.append method is deprecated and will be removed from pandas in a future version. Use pandas.concat instead.\n",
      "  df_res.append(new_data, ignore_index=True)\n",
      "169867it [00:02, 71773.26it/s]\n",
      "/var/folders/ys/jp4568v17zscf70nxjvc_mh40000gn/T/ipykernel_33089/2602433118.py:10: FutureWarning: The frame.append method is deprecated and will be removed from pandas in a future version. Use pandas.concat instead.\n",
      "  df_res.append(new_data, ignore_index=True)\n",
      "169867it [00:02, 71730.07it/s]\n",
      "/var/folders/ys/jp4568v17zscf70nxjvc_mh40000gn/T/ipykernel_33089/2602433118.py:10: FutureWarning: The frame.append method is deprecated and will be removed from pandas in a future version. Use pandas.concat instead.\n",
      "  df_res.append(new_data, ignore_index=True)\n",
      "36it [00:00, 2244.48it/s]\n",
      "37it [00:00, 2302.14it/s]\n",
      "169867it [00:02, 70930.74it/s]\n",
      "/var/folders/ys/jp4568v17zscf70nxjvc_mh40000gn/T/ipykernel_33089/2602433118.py:10: FutureWarning: The frame.append method is deprecated and will be removed from pandas in a future version. Use pandas.concat instead.\n",
      "  df_res.append(new_data, ignore_index=True)\n",
      "169867it [00:02, 70208.01it/s]\n",
      "/var/folders/ys/jp4568v17zscf70nxjvc_mh40000gn/T/ipykernel_33089/2602433118.py:10: FutureWarning: The frame.append method is deprecated and will be removed from pandas in a future version. Use pandas.concat instead.\n",
      "  df_res.append(new_data, ignore_index=True)\n",
      "169867it [00:02, 71541.17it/s]\n",
      "/var/folders/ys/jp4568v17zscf70nxjvc_mh40000gn/T/ipykernel_33089/2602433118.py:10: FutureWarning: The frame.append method is deprecated and will be removed from pandas in a future version. Use pandas.concat instead.\n",
      "  df_res.append(new_data, ignore_index=True)\n",
      "169867it [00:02, 70430.84it/s]\n",
      "/var/folders/ys/jp4568v17zscf70nxjvc_mh40000gn/T/ipykernel_33089/2602433118.py:10: FutureWarning: The frame.append method is deprecated and will be removed from pandas in a future version. Use pandas.concat instead.\n",
      "  df_res.append(new_data, ignore_index=True)\n",
      "38it [00:00, 2039.07it/s]\n",
      "39it [00:00, 2073.60it/s]\n",
      "40it [00:00, 2313.75it/s]\n",
      "41it [00:00, 2584.02it/s]\n",
      "42it [00:00, 2505.77it/s]\n",
      "43it [00:00, 2714.96it/s]\n",
      "44it [00:00, 2411.09it/s]\n",
      "45it [00:00, 2760.62it/s]\n",
      "46it [00:00, 2535.42it/s]\n",
      "47it [00:00, 2631.87it/s]\n",
      "48it [00:00, 2540.75it/s]\n",
      "49it [00:00, 3040.65it/s]\n",
      "50it [00:00, 2617.35it/s]\n",
      "51it [00:00, 2865.50it/s]\n",
      "52it [00:00, 3053.39it/s]\n",
      "53it [00:00, 3151.20it/s]\n",
      "54it [00:00, 2865.90it/s]\n",
      "169867it [00:02, 69186.54it/s]\n",
      "/var/folders/ys/jp4568v17zscf70nxjvc_mh40000gn/T/ipykernel_33089/2602433118.py:10: FutureWarning: The frame.append method is deprecated and will be removed from pandas in a future version. Use pandas.concat instead.\n",
      "  df_res.append(new_data, ignore_index=True)\n",
      "55it [00:00, 3391.50it/s]\n",
      "56it [00:00, 3373.27it/s]\n",
      "57it [00:00, 3395.28it/s]\n",
      "58it [00:00, 3368.59it/s]\n",
      "169867it [00:02, 70519.29it/s]\n",
      "/var/folders/ys/jp4568v17zscf70nxjvc_mh40000gn/T/ipykernel_33089/2602433118.py:10: FutureWarning: The frame.append method is deprecated and will be removed from pandas in a future version. Use pandas.concat instead.\n",
      "  df_res.append(new_data, ignore_index=True)\n",
      "169867it [00:02, 71406.26it/s]\n",
      "/var/folders/ys/jp4568v17zscf70nxjvc_mh40000gn/T/ipykernel_33089/2602433118.py:10: FutureWarning: The frame.append method is deprecated and will be removed from pandas in a future version. Use pandas.concat instead.\n",
      "  df_res.append(new_data, ignore_index=True)\n",
      "60it [00:00, 3664.80it/s]\n",
      "61it [00:00, 3379.64it/s]\n",
      "169867it [00:02, 71605.11it/s]\n",
      "/var/folders/ys/jp4568v17zscf70nxjvc_mh40000gn/T/ipykernel_33089/2602433118.py:10: FutureWarning: The frame.append method is deprecated and will be removed from pandas in a future version. Use pandas.concat instead.\n",
      "  df_res.append(new_data, ignore_index=True)\n",
      "169867it [00:02, 71264.53it/s]\n",
      "/var/folders/ys/jp4568v17zscf70nxjvc_mh40000gn/T/ipykernel_33089/2602433118.py:10: FutureWarning: The frame.append method is deprecated and will be removed from pandas in a future version. Use pandas.concat instead.\n",
      "  df_res.append(new_data, ignore_index=True)\n",
      "169867it [00:02, 70932.28it/s]\n",
      "/var/folders/ys/jp4568v17zscf70nxjvc_mh40000gn/T/ipykernel_33089/2602433118.py:10: FutureWarning: The frame.append method is deprecated and will be removed from pandas in a future version. Use pandas.concat instead.\n",
      "  df_res.append(new_data, ignore_index=True)\n",
      "169867it [00:02, 71240.51it/s]\n",
      "/var/folders/ys/jp4568v17zscf70nxjvc_mh40000gn/T/ipykernel_33089/2602433118.py:10: FutureWarning: The frame.append method is deprecated and will be removed from pandas in a future version. Use pandas.concat instead.\n",
      "  df_res.append(new_data, ignore_index=True)\n",
      "169867it [00:02, 71134.51it/s]\n",
      "/var/folders/ys/jp4568v17zscf70nxjvc_mh40000gn/T/ipykernel_33089/2602433118.py:10: FutureWarning: The frame.append method is deprecated and will be removed from pandas in a future version. Use pandas.concat instead.\n",
      "  df_res.append(new_data, ignore_index=True)\n",
      "62it [00:00, 3683.49it/s]\n",
      "169867it [00:02, 71213.93it/s]\n",
      "/var/folders/ys/jp4568v17zscf70nxjvc_mh40000gn/T/ipykernel_33089/2602433118.py:10: FutureWarning: The frame.append method is deprecated and will be removed from pandas in a future version. Use pandas.concat instead.\n",
      "  df_res.append(new_data, ignore_index=True)\n",
      "63it [00:00, 3834.69it/s]\n",
      "64it [00:00, 3830.74it/s]\n",
      "65it [00:00, 4029.71it/s]\n",
      "66it [00:00, 3726.91it/s]\n",
      "67it [00:00, 4161.69it/s]\n",
      "68it [00:00, 3898.21it/s]\n",
      "69it [00:00, 4247.49it/s]\n",
      "169867it [00:02, 70267.48it/s]\n",
      "/var/folders/ys/jp4568v17zscf70nxjvc_mh40000gn/T/ipykernel_33089/2602433118.py:10: FutureWarning: The frame.append method is deprecated and will be removed from pandas in a future version. Use pandas.concat instead.\n",
      "  df_res.append(new_data, ignore_index=True)\n",
      "70it [00:00, 4359.47it/s]\n",
      "71it [00:00, 4222.91it/s]\n",
      "169867it [00:02, 69786.92it/s]\n",
      "/var/folders/ys/jp4568v17zscf70nxjvc_mh40000gn/T/ipykernel_33089/2602433118.py:10: FutureWarning: The frame.append method is deprecated and will be removed from pandas in a future version. Use pandas.concat instead.\n",
      "  df_res.append(new_data, ignore_index=True)\n",
      "169867it [00:02, 71249.26it/s]\n",
      "/var/folders/ys/jp4568v17zscf70nxjvc_mh40000gn/T/ipykernel_33089/2602433118.py:10: FutureWarning: The frame.append method is deprecated and will be removed from pandas in a future version. Use pandas.concat instead.\n",
      "  df_res.append(new_data, ignore_index=True)\n",
      "169867it [00:02, 71034.80it/s]\n",
      "/var/folders/ys/jp4568v17zscf70nxjvc_mh40000gn/T/ipykernel_33089/2602433118.py:10: FutureWarning: The frame.append method is deprecated and will be removed from pandas in a future version. Use pandas.concat instead.\n",
      "  df_res.append(new_data, ignore_index=True)\n",
      "97595it [00:01, 69522.96it/s]\n"
     ]
    },
    {
     "ename": "KeyboardInterrupt",
     "evalue": "",
     "output_type": "error",
     "traceback": [
      "\u001B[0;31m---------------------------------------------------------------------------\u001B[0m",
      "\u001B[0;31mKeyboardInterrupt\u001B[0m                         Traceback (most recent call last)",
      "Cell \u001B[0;32mIn[9], line 5\u001B[0m\n\u001B[1;32m      3\u001B[0m find_success \u001B[38;5;241m=\u001B[39m \u001B[38;5;28;01mFalse\u001B[39;00m\n\u001B[1;32m      4\u001B[0m \u001B[38;5;28;01mfor\u001B[39;00m index_internal, row_internal \u001B[38;5;129;01min\u001B[39;00m tqdm(df_fault\u001B[38;5;241m.\u001B[39miterrows()):\n\u001B[0;32m----> 5\u001B[0m     \u001B[38;5;28;01mif\u001B[39;00m \u001B[43mrow\u001B[49m\u001B[43m[\u001B[49m\u001B[38;5;124;43m'\u001B[39;49m\u001B[38;5;124;43mtext_a\u001B[39;49m\u001B[38;5;124;43m'\u001B[39;49m\u001B[43m]\u001B[49m \u001B[38;5;241m==\u001B[39m row_internal[\u001B[38;5;124m'\u001B[39m\u001B[38;5;124mtext_a\u001B[39m\u001B[38;5;124m'\u001B[39m] \u001B[38;5;129;01mand\u001B[39;00m row[\u001B[38;5;124m'\u001B[39m\u001B[38;5;124mtext_b\u001B[39m\u001B[38;5;124m'\u001B[39m] \u001B[38;5;241m==\u001B[39m row_internal[\u001B[38;5;124m'\u001B[39m\u001B[38;5;124mtext_b\u001B[39m\u001B[38;5;124m'\u001B[39m]:\n\u001B[1;32m      6\u001B[0m         find_success \u001B[38;5;241m=\u001B[39m \u001B[38;5;28;01mTrue\u001B[39;00m\n\u001B[1;32m      7\u001B[0m         \u001B[38;5;28;01mbreak\u001B[39;00m\n",
      "File \u001B[0;32m/opt/homebrew/anaconda3/envs/research/lib/python3.8/site-packages/pandas/core/series.py:981\u001B[0m, in \u001B[0;36mSeries.__getitem__\u001B[0;34m(self, key)\u001B[0m\n\u001B[1;32m    978\u001B[0m     \u001B[38;5;28;01mreturn\u001B[39;00m \u001B[38;5;28mself\u001B[39m\u001B[38;5;241m.\u001B[39m_values[key]\n\u001B[1;32m    980\u001B[0m \u001B[38;5;28;01melif\u001B[39;00m key_is_scalar:\n\u001B[0;32m--> 981\u001B[0m     \u001B[38;5;28;01mreturn\u001B[39;00m \u001B[38;5;28;43mself\u001B[39;49m\u001B[38;5;241;43m.\u001B[39;49m\u001B[43m_get_value\u001B[49m\u001B[43m(\u001B[49m\u001B[43mkey\u001B[49m\u001B[43m)\u001B[49m\n\u001B[1;32m    983\u001B[0m \u001B[38;5;28;01mif\u001B[39;00m is_hashable(key):\n\u001B[1;32m    984\u001B[0m     \u001B[38;5;66;03m# Otherwise index.get_value will raise InvalidIndexError\u001B[39;00m\n\u001B[1;32m    985\u001B[0m     \u001B[38;5;28;01mtry\u001B[39;00m:\n\u001B[1;32m    986\u001B[0m         \u001B[38;5;66;03m# For labels that don't resolve as scalars like tuples and frozensets\u001B[39;00m\n",
      "File \u001B[0;32m/opt/homebrew/anaconda3/envs/research/lib/python3.8/site-packages/pandas/core/series.py:1089\u001B[0m, in \u001B[0;36mSeries._get_value\u001B[0;34m(self, label, takeable)\u001B[0m\n\u001B[1;32m   1086\u001B[0m     \u001B[38;5;28;01mreturn\u001B[39;00m \u001B[38;5;28mself\u001B[39m\u001B[38;5;241m.\u001B[39m_values[label]\n\u001B[1;32m   1088\u001B[0m \u001B[38;5;66;03m# Similar to Index.get_value, but we do not fall back to positional\u001B[39;00m\n\u001B[0;32m-> 1089\u001B[0m loc \u001B[38;5;241m=\u001B[39m \u001B[38;5;28;43mself\u001B[39;49m\u001B[38;5;241;43m.\u001B[39;49m\u001B[43mindex\u001B[49m\u001B[38;5;241;43m.\u001B[39;49m\u001B[43mget_loc\u001B[49m\u001B[43m(\u001B[49m\u001B[43mlabel\u001B[49m\u001B[43m)\u001B[49m\n\u001B[1;32m   1090\u001B[0m \u001B[38;5;28;01mreturn\u001B[39;00m \u001B[38;5;28mself\u001B[39m\u001B[38;5;241m.\u001B[39mindex\u001B[38;5;241m.\u001B[39m_get_values_for_loc(\u001B[38;5;28mself\u001B[39m, loc, label)\n",
      "File \u001B[0;32m/opt/homebrew/anaconda3/envs/research/lib/python3.8/site-packages/pandas/core/indexes/base.py:3800\u001B[0m, in \u001B[0;36mIndex.get_loc\u001B[0;34m(self, key, method, tolerance)\u001B[0m\n\u001B[1;32m   3795\u001B[0m \u001B[38;5;28;01mif\u001B[39;00m tolerance \u001B[38;5;129;01mis\u001B[39;00m \u001B[38;5;129;01mnot\u001B[39;00m \u001B[38;5;28;01mNone\u001B[39;00m:\n\u001B[1;32m   3796\u001B[0m     \u001B[38;5;28;01mraise\u001B[39;00m \u001B[38;5;167;01mValueError\u001B[39;00m(\n\u001B[1;32m   3797\u001B[0m         \u001B[38;5;124m\"\u001B[39m\u001B[38;5;124mtolerance argument only valid if using pad, \u001B[39m\u001B[38;5;124m\"\u001B[39m\n\u001B[1;32m   3798\u001B[0m         \u001B[38;5;124m\"\u001B[39m\u001B[38;5;124mbackfill or nearest lookups\u001B[39m\u001B[38;5;124m\"\u001B[39m\n\u001B[1;32m   3799\u001B[0m     )\n\u001B[0;32m-> 3800\u001B[0m casted_key \u001B[38;5;241m=\u001B[39m \u001B[38;5;28;43mself\u001B[39;49m\u001B[38;5;241;43m.\u001B[39;49m\u001B[43m_maybe_cast_indexer\u001B[49m\u001B[43m(\u001B[49m\u001B[43mkey\u001B[49m\u001B[43m)\u001B[49m\n\u001B[1;32m   3801\u001B[0m \u001B[38;5;28;01mtry\u001B[39;00m:\n\u001B[1;32m   3802\u001B[0m     \u001B[38;5;28;01mreturn\u001B[39;00m \u001B[38;5;28mself\u001B[39m\u001B[38;5;241m.\u001B[39m_engine\u001B[38;5;241m.\u001B[39mget_loc(casted_key)\n",
      "File \u001B[0;32m/opt/homebrew/anaconda3/envs/research/lib/python3.8/site-packages/pandas/core/indexes/base.py:6569\u001B[0m, in \u001B[0;36mIndex._maybe_cast_indexer\u001B[0;34m(self, key)\u001B[0m\n\u001B[1;32m   6565\u001B[0m         \u001B[38;5;28;01mraise\u001B[39;00m \u001B[38;5;167;01mAssertionError\u001B[39;00m(\u001B[38;5;124m\"\u001B[39m\u001B[38;5;124mEnd slice bound is non-scalar\u001B[39m\u001B[38;5;124m\"\u001B[39m)\n\u001B[1;32m   6567\u001B[0m     \u001B[38;5;28;01mreturn\u001B[39;00m \u001B[38;5;28mslice\u001B[39m(start_slice, end_slice, step)\n\u001B[0;32m-> 6569\u001B[0m \u001B[38;5;28;01mdef\u001B[39;00m \u001B[38;5;21m_maybe_cast_indexer\u001B[39m(\u001B[38;5;28mself\u001B[39m, key):\n\u001B[1;32m   6570\u001B[0m \u001B[38;5;250m    \u001B[39m\u001B[38;5;124;03m\"\"\"\u001B[39;00m\n\u001B[1;32m   6571\u001B[0m \u001B[38;5;124;03m    If we have a float key and are not a floating index, then try to cast\u001B[39;00m\n\u001B[1;32m   6572\u001B[0m \u001B[38;5;124;03m    to an int if equivalent.\u001B[39;00m\n\u001B[1;32m   6573\u001B[0m \u001B[38;5;124;03m    \"\"\"\u001B[39;00m\n\u001B[1;32m   6574\u001B[0m     \u001B[38;5;28;01mreturn\u001B[39;00m key\n",
      "\u001B[0;31mKeyboardInterrupt\u001B[0m: "
     ]
    }
   ],
   "source": [
    "from tqdm import tqdm\n",
    "for index, row in df_all.iterrows():\n",
    "    find_success = False\n",
    "    for index_internal, row_internal in tqdm(df_fault.iterrows()):\n",
    "        if row['text_a'] == row_internal['text_a'] and row['text_b'] == row_internal['text_b']:\n",
    "            find_success = True\n",
    "            break\n",
    "    if not find_success:\n",
    "        new_data = {'text_a': row['text_a'], 'text_b': row['text_b']}\n",
    "        df_res.append(new_data, ignore_index=True)\n",
    "df_res.to_csv('./right_res_deberta.tsv', sep='\\t', index=False)"
   ]
  },
  {
   "cell_type": "code",
   "execution_count": null,
   "metadata": {},
   "outputs": [],
   "source": []
  }
 ],
 "metadata": {
  "kernelspec": {
   "display_name": "Python 3 (ipykernel)",
   "language": "python",
   "name": "python3"
  },
  "language_info": {
   "codemirror_mode": {
    "name": "ipython",
    "version": 3
   },
   "file_extension": ".py",
   "mimetype": "text/x-python",
   "name": "python",
   "nbconvert_exporter": "python",
   "pygments_lexer": "ipython3",
   "version": "3.8.16"
  }
 },
 "nbformat": 4,
 "nbformat_minor": 1
}
