{
 "cells": [
  {
   "cell_type": "code",
   "execution_count": 1,
   "metadata": {
    "collapsed": true,
    "ExecuteTime": {
     "end_time": "2023-07-08T09:58:01.945938Z",
     "start_time": "2023-07-08T09:58:01.140606Z"
    }
   },
   "outputs": [],
   "source": [
    "import pandas as pd\n",
    "from tqdm import tqdm"
   ]
  },
  {
   "cell_type": "code",
   "execution_count": null,
   "metadata": {},
   "outputs": [],
   "source": [
    "df = pd.read_excel('/Users/seedoilz/Downloads/res_1_sentiment_meaning_t5.xlsx')"
   ]
  },
  {
   "cell_type": "code",
   "execution_count": null,
   "metadata": {},
   "outputs": [],
   "source": [
    "def one_position_dif(str1:str, str2:str):\n",
    "    str1_list = str1.split(' ')\n",
    "    str2_list = str2.split(' ')\n",
    "    if len(str1_list) != len(str2_list):\n",
    "        return False\n",
    "    if len(str1_list) == 1:\n",
    "        return True\n",
    "    count = 0\n",
    "    for i in range(0, len(str1_list)):\n",
    "        if str1_list[i] != str2_list[i]:\n",
    "            count += 1\n",
    "    if count == 1:\n",
    "        return True\n",
    "    else:\n",
    "        return False"
   ]
  },
  {
   "cell_type": "code",
   "execution_count": null,
   "metadata": {},
   "outputs": [],
   "source": [
    "group_no = 1\n",
    "former_text = ''\n",
    "row_list = []\n",
    "alone_df = pd.DataFrame(columns=df.columns.tolist())\n",
    "res_df = pd.DataFrame(columns=df.columns.tolist().append('group_no'))\n",
    "group_add = False\n",
    "count = 0\n",
    "for index, row in tqdm(df.iterrows()):\n",
    "    count += 1\n",
    "    if count >= 100:\n",
    "        break\n",
    "    if index == 0:\n",
    "        former_text = row['original_text']\n",
    "    if row['original_text'] == former_text:\n",
    "        row_list.append(row)\n",
    "    else:\n",
    "        if len(row_list) == 1:\n",
    "            alone_df = pd.concat([alone_df, row_list[0].to_frame().T], axis=0)\n",
    "            row_list = [row]\n",
    "            former_text = row['original_text']\n",
    "            continue\n",
    "        sub_list_list = []\n",
    "        sub_former_text = ''\n",
    "        temp_list = []\n",
    "        for sub_row in row_list:\n",
    "            if sub_former_text == '':\n",
    "                sub_former_text = sub_row['insert_text']\n",
    "                temp_list.append(sub_row)\n",
    "                continue\n",
    "            else:\n",
    "                if one_position_dif(sub_former_text, sub_row['insert_text']):\n",
    "                    sub_former_text = sub_row['insert_text']\n",
    "                    temp_list.append(sub_row)\n",
    "                else:\n",
    "                    sub_list_list.append(temp_list)\n",
    "                    sub_former_text = sub_row['insert_text']\n",
    "                    temp_list = [sub_row]\n",
    "        sub_list_list.append(temp_list)\n",
    "        for sub_list in sub_list_list:\n",
    "            if len(sub_list) == 0:\n",
    "                continue\n",
    "            elif len(sub_list) == 1:\n",
    "                alone_df = pd.concat([alone_df, sub_list[0].to_frame().T], axis=0)\n",
    "            else:\n",
    "                group_add = True\n",
    "                for sub_row in sub_list:\n",
    "                    row_to_insert = sub_row\n",
    "                    row_to_insert['group_no'] = group_no\n",
    "                    res_df = pd.concat([res_df, row_to_insert.to_frame().T], axis=0)\n",
    "            if group_add:\n",
    "                group_no = group_no + 1\n",
    "                group_add = False\n",
    "        row_list = [row]\n",
    "    former_text = row['original_text']"
   ]
  },
  {
   "cell_type": "code",
   "execution_count": null,
   "metadata": {},
   "outputs": [],
   "source": [
    "alone_df.to_csv('./deberta_SA_词义理解_alone_result.csv')\n",
    "res_df.to_csv('./deberta_SA_词义理解_result.csv')"
   ]
  }
 ],
 "metadata": {
  "kernelspec": {
   "display_name": "Python 3 (ipykernel)",
   "language": "python",
   "name": "python3"
  },
  "language_info": {
   "codemirror_mode": {
    "name": "ipython",
    "version": 3
   },
   "file_extension": ".py",
   "mimetype": "text/x-python",
   "name": "python",
   "nbconvert_exporter": "python",
   "pygments_lexer": "ipython3",
   "version": "3.8.16"
  }
 },
 "nbformat": 4,
 "nbformat_minor": 1
}
