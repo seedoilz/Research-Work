{
 "cells": [
  {
   "cell_type": "code",
   "execution_count": 1,
   "metadata": {
    "collapsed": true,
    "ExecuteTime": {
     "end_time": "2023-07-21T00:50:45.706613Z",
     "start_time": "2023-07-21T00:50:44.946058Z"
    }
   },
   "outputs": [],
   "source": [
    "import pandas as pd\n",
    "from tqdm import tqdm\n",
    "import os"
   ]
  },
  {
   "cell_type": "code",
   "execution_count": 16,
   "outputs": [
    {
     "name": "stdout",
     "output_type": "stream",
     "text": [
      "res1_0.5_sst_test_map_deberta.xlsx\n"
     ]
    },
    {
     "name": "stderr",
     "output_type": "stream",
     "text": [
      "8042it [00:00, 18734.87it/s]\n"
     ]
    },
    {
     "name": "stdout",
     "output_type": "stream",
     "text": [
      "res1_0.5_sst_test_map_t5.xlsx\n"
     ]
    },
    {
     "name": "stderr",
     "output_type": "stream",
     "text": [
      "2985it [00:00, 18961.02it/s]\n"
     ]
    },
    {
     "name": "stdout",
     "output_type": "stream",
     "text": [
      "res1_0.5_sst_test_map_syn_deberta.xlsx\n",
      "res1_0.5_sst_test_map_syn_t5.xlsx\n",
      "res2_0.5_sst_test_map_deberta.xlsx\n",
      "skip\n",
      "res2_0.5_sst_test_map_t5.xlsx\n",
      "skip\n",
      "res2_0.5_sst_test_map_syn_deberta.xlsx\n",
      "skip\n",
      "res2_0.5_sst_test_map_syn_t5.xlsx\n",
      "skip\n"
     ]
    }
   ],
   "source": [
    "dir_path = \"/Users/seedoilz/Downloads/0.5\"\n",
    "for file_path in os.listdir(dir_path):\n",
    "    print(file_path)\n",
    "    if \"res2\" in file_path or file_path == \".DS_Store\":\n",
    "        print(\"skip\")\n",
    "        continue\n",
    "    df = pd.read_excel(dir_path + '/' + file_path)\n",
    "    if \"syn\" in file_path:\n",
    "        df.to_csv(file_path.replace(\"xlsx\", \"csv\"), index=False)\n",
    "    else:\n",
    "        df['group_no'] = -1\n",
    "        group_no = 1\n",
    "        former_text = ''\n",
    "        for index, row in tqdm(df.iterrows()):\n",
    "            if index == 0:\n",
    "                former_text = row['original_text']\n",
    "            if former_text != row['original_text']:\n",
    "                group_no += 1\n",
    "            former_text = row['original_text']\n",
    "            df.iloc[index, df.columns.get_loc('group_no')] = group_no\n",
    "        df.to_csv(file_path.replace(\"xlsx\", \"csv\"), index=False)"
   ],
   "metadata": {
    "collapsed": false,
    "ExecuteTime": {
     "end_time": "2023-07-21T01:03:12.932780Z",
     "start_time": "2023-07-21T01:03:11.141159Z"
    }
   }
  },
  {
   "cell_type": "code",
   "execution_count": null,
   "outputs": [],
   "source": [
    "file = \"/Users/seedoilz/Downloads/sst_test_map_syn_t5.xlsx\"\n",
    "df = pd.read_excel(file)\n",
    "\n",
    "df['group_no'] = -1\n",
    "group_no = 1\n",
    "former_text = ''\n",
    "for index, row in tqdm(df.iterrows()):\n",
    "    if index == 0:\n",
    "        former_text = row['original_text']\n",
    "    if former_text != row['original_text']:\n",
    "        group_no += 1\n",
    "    former_text = row['original_text']\n",
    "print(group_no)"
   ],
   "metadata": {
    "collapsed": false
   }
  },
  {
   "cell_type": "code",
   "execution_count": null,
   "outputs": [],
   "source": [],
   "metadata": {
    "collapsed": false
   }
  }
 ],
 "metadata": {
  "kernelspec": {
   "display_name": "Python 3",
   "language": "python",
   "name": "python3"
  },
  "language_info": {
   "codemirror_mode": {
    "name": "ipython",
    "version": 2
   },
   "file_extension": ".py",
   "mimetype": "text/x-python",
   "name": "python",
   "nbconvert_exporter": "python",
   "pygments_lexer": "ipython2",
   "version": "2.7.6"
  }
 },
 "nbformat": 4,
 "nbformat_minor": 0
}
