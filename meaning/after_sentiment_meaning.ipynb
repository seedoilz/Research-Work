{
 "cells": [
  {
   "cell_type": "code",
   "execution_count": 3,
   "metadata": {
    "collapsed": true,
    "ExecuteTime": {
     "end_time": "2023-07-08T10:22:38.667049Z",
     "start_time": "2023-07-08T10:22:38.652751Z"
    }
   },
   "outputs": [],
   "source": [
    "import pandas as pd\n",
    "from tqdm import tqdm"
   ]
  },
  {
   "cell_type": "code",
   "execution_count": 14,
   "outputs": [
    {
     "name": "stderr",
     "output_type": "stream",
     "text": [
      "45397it [00:01, 23832.25it/s]\n"
     ]
    }
   ],
   "source": [
    "file = \"/Users/seedoilz/Downloads/res_1_sentiment_meaning_t5.xlsx\"\n",
    "df = pd.read_excel(file)\n",
    "if \"syn\" in file:\n",
    "    df.to_csv(file.replace(\"xlsx\", \"csv\"), index=False)\n",
    "else:\n",
    "    df['group_no'] = -1\n",
    "    group_no = 1\n",
    "    former_text = ''\n",
    "    for index, row in tqdm(df.iterrows()):\n",
    "        if index == 0:\n",
    "            former_text = row['original_text']\n",
    "        if former_text != row['original_text']:\n",
    "            group_no += 1\n",
    "        former_text = row['original_text']\n",
    "        df.iloc[index, df.columns.get_loc('group_no')] = group_no\n",
    "    df.to_csv(file.replace(\"xlsx\", \"csv\"), index=False)"
   ],
   "metadata": {
    "collapsed": false,
    "ExecuteTime": {
     "end_time": "2023-07-08T10:28:17.386978Z",
     "start_time": "2023-07-08T10:28:12.067046Z"
    }
   }
  },
  {
   "cell_type": "code",
   "execution_count": null,
   "outputs": [],
   "source": [],
   "metadata": {
    "collapsed": false
   }
  }
 ],
 "metadata": {
  "kernelspec": {
   "display_name": "Python 3",
   "language": "python",
   "name": "python3"
  },
  "language_info": {
   "codemirror_mode": {
    "name": "ipython",
    "version": 2
   },
   "file_extension": ".py",
   "mimetype": "text/x-python",
   "name": "python",
   "nbconvert_exporter": "python",
   "pygments_lexer": "ipython2",
   "version": "2.7.6"
  }
 },
 "nbformat": 4,
 "nbformat_minor": 0
}
