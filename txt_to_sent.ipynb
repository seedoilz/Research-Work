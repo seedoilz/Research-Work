{
 "cells": [
  {
   "cell_type": "code",
   "execution_count": 7,
   "outputs": [],
   "source": [
    "with open('./part.txt', 'r') as p:\n",
    "    part = p.readline()"
   ],
   "metadata": {
    "collapsed": false,
    "ExecuteTime": {
     "end_time": "2023-06-01T11:01:30.446331Z",
     "start_time": "2023-06-01T11:01:30.441867Z"
    }
   }
  },
  {
   "cell_type": "code",
   "execution_count": 8,
   "metadata": {
    "collapsed": true,
    "ExecuteTime": {
     "end_time": "2023-06-01T11:01:31.124897Z",
     "start_time": "2023-06-01T11:01:31.068300Z"
    }
   },
   "outputs": [],
   "source": [
    "with open('./data/squad/' + part +'/' + part + '.txt', 'r') as f:\n",
    "    lines = f.readlines()\n",
    "\n",
    "with open('./data/squad/' + part +'/squad_' + part + '.cln.sent', 'w') as file:\n",
    "    for line in lines:\n",
    "        file.write('<s> ' + line.replace('\\n','') + ' <\\s>\\n')"
   ]
  },
  {
   "cell_type": "code",
   "execution_count": null,
   "outputs": [],
   "source": [],
   "metadata": {
    "collapsed": false
   }
  }
 ],
 "metadata": {
  "kernelspec": {
   "display_name": "Python 3",
   "language": "python",
   "name": "python3"
  },
  "language_info": {
   "codemirror_mode": {
    "name": "ipython",
    "version": 2
   },
   "file_extension": ".py",
   "mimetype": "text/x-python",
   "name": "python",
   "nbconvert_exporter": "python",
   "pygments_lexer": "ipython2",
   "version": "2.7.6"
  }
 },
 "nbformat": 4,
 "nbformat_minor": 0
}
